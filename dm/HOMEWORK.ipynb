{
 "cells": [
  {
   "cell_type": "code",
   "execution_count": 1,
   "id": "538d8edd-3850-4363-b6cb-949b531f7ce1",
   "metadata": {},
   "outputs": [],
   "source": [
    "import numpy as np\n",
    "from scipy import stats\n"
   ]
  },
  {
   "cell_type": "code",
   "execution_count": 2,
   "id": "dd070a3d-b81b-4d2d-b191-223950711824",
   "metadata": {},
   "outputs": [],
   "source": [
    "x = np.array([69, 74, 68, 70, 72, 67, 66, 70, 76, 68, 72, 79, 74, 67, 66, 71, 74, 75, 75, 76])\n",
    "y = np.array([153, 175, 155, 135, 172, 150, 115, 137, 200, 130, 140, 265, 185, 112, 140, 150, 165, 185, 210, 220])"
   ]
  },
  {
   "cell_type": "code",
   "execution_count": 3,
   "id": "537d023c-fa97-425c-ac1e-f7c765b0972c",
   "metadata": {},
   "outputs": [
    {
     "name": "stdout",
     "output_type": "stream",
     "text": [
      "x -> mean 71.45, median 71.5 mode ModeResult(mode=array([74]), count=array([3]))\n",
      "y -> mean 164.7, median 154.0 mode ModeResult(mode=array([140]), count=array([2]))\n"
     ]
    }
   ],
   "source": [
    "x_mean = np.mean(x)\n",
    "x_median = np.median(x)\n",
    "x_mode = stats.mode(x)\n",
    "print(f'x -> mean {x_mean}, median {x_median} mode {x_mode}')\n",
    "\n",
    "y_mean = np.mean(y)\n",
    "y_median = np.median(y)\n",
    "y_mode = stats.mode(y)\n",
    "print(f'y -> mean {y_mean}, median {y_median} mode {y_mode}')\n"
   ]
  },
  {
   "cell_type": "code",
   "execution_count": 4,
   "id": "83124248-89db-41ef-80fb-d839b0340a08",
   "metadata": {},
   "outputs": [
    {
     "name": "stdout",
     "output_type": "stream",
     "text": [
      "x variance 13.847500000000002\n",
      "y variance 1369.2099999999998\n"
     ]
    }
   ],
   "source": [
    "x_var = np.var(x)\n",
    "y_var = np.var(y)\n",
    "print(f'x variance {x_var}')\n",
    "print(f'y variance {y_var}')"
   ]
  },
  {
   "cell_type": "code",
   "execution_count": 5,
   "id": "bc86e471-b71f-4bd7-a5c9-9c51b82317d9",
   "metadata": {},
   "outputs": [
    {
     "data": {
      "image/png": "[encoded data removed]",
      "text/plain": [
       "<Figure size 432x288 with 1 Axes>"
      ]
     },
     "metadata": {
      "needs_background": "light"
     },
     "output_type": "display_data"
    }
   ],
   "source": [
    "%matplotlib inline\n",
    "import matplotlib.pyplot as plt\n",
    "import math\n",
    "\n",
    "x_sigma = math.sqrt(x_var)\n",
    "x_coord = np.linspace(x_mean - 3*x_sigma, x_mean + 3*x_sigma, 100)\n",
    "plt.plot(x_coord, stats.norm.pdf(x_coord, x_mean, x_sigma))\n",
    "plt.show()"
   ]
  },
  {
   "cell_type": "code",
   "execution_count": 6,
   "id": "21476365-63c1-4608-b92b-a3ce30944c94",
   "metadata": {},
   "outputs": [
    {
     "data": {
      "text/plain": [
       "(array([], dtype=int64),)"
      ]
     },
     "execution_count": 6,
     "metadata": {},
     "output_type": "execute_result"
    }
   ],
   "source": [
    "np.where(x >= 80)"
   ]
  },
  {
   "cell_type": "code",
   "execution_count": 7,
   "id": "9c6872a5-00a0-4ac2-b5b5-4cfcfc66002b",
   "metadata": {},
   "outputs": [
    {
     "name": "stdout",
     "output_type": "stream",
     "text": [
      "covariance matrix with x and y attributes \n",
      " [[  14.57631579  128.87894737]\n",
      " [ 128.87894737 1441.27368421]]\n",
      "mean vector \n",
      " [ 71.45 164.7 ]\n"
     ]
    }
   ],
   "source": [
    "d = np.column_stack((x, y))\n",
    "cov_x_y = np.cov(d, rowvar=False)\n",
    "print(f'covariance matrix with x and y attributes \\n {cov_x_y}')\n",
    "mean_2d = np.mean(d, axis=0)\n",
    "print(f'mean vector \\n {mean_2d}')"
   ]
  },
  {
   "cell_type": "code",
   "execution_count": 8,
   "id": "9cfedf7b-09bf-4446-9a7d-329dc5a42905",
   "metadata": {},
   "outputs": [
    {
     "name": "stdout",
     "output_type": "stream",
     "text": [
      "correalation between x and y \n",
      " [[1.         0.88917014]\n",
      " [0.88917014 1.        ]]\n"
     ]
    }
   ],
   "source": [
    "corr_x_y = np.corrcoef(d, rowvar=False)\n",
    "print(f'correalation between x and y \\n {corr_x_y}')"
   ]
  },
  {
   "cell_type": "code",
   "execution_count": 9,
   "id": "90403ef9-14b8-481e-8273-90c626cb0848",
   "metadata": {},
   "outputs": [
    {
     "data": {
      "image/png": "[encoded data removed]",
      "text/plain": [
       "<Figure size 432x288 with 1 Axes>"
      ]
     },
     "metadata": {
      "needs_background": "light"
     },
     "output_type": "display_data"
    }
   ],
   "source": [
    "plt.scatter(x, y, color='red', marker='o', label='Point')\n",
    "plt.xlabel('Age')\n",
    "plt.ylabel('Weight')\n",
    "plt.legend(loc='upper left')\n",
    "plt.show()"
   ]
  },
  {
   "cell_type": "code",
   "execution_count": 10,
   "id": "e8b790a2-acb9-4b8c-89da-394f90156ac8",
   "metadata": {},
   "outputs": [
    {
     "name": "stdout",
     "output_type": "stream",
     "text": [
      "covariance of x \n",
      " [[ 12.          17.          -8.        ]\n",
      " [ 17.          24.33333333 -12.83333333]\n",
      " [ -8.         -12.83333333  14.33333333]] \n",
      " generalized variance of x \n",
      " 115.00000000000001\n"
     ]
    }
   ],
   "source": [
    "x = np.array([[17, 17, 12], [11, 9, 13], [11, 8, 19]])\n",
    "cov_x = np.cov(x, rowvar=False)\n",
    "generalized_variance = np.abs(np.linalg.det(x))\n",
    "print(f'covariance of x \\n {cov_x} \\n generalized variance of x \\n {generalized_variance}')"
   ]
  },
  {
   "cell_type": "code",
   "execution_count": 11,
   "id": "2ad91946-3a37-40f2-9c90-b08d16267b17",
   "metadata": {},
   "outputs": [
    {
     "name": "stdout",
     "output_type": "stream",
     "text": [
      "sigma11 \n",
      " [[ 0.21     -0.0999   -0.0861   -0.24    ]\n",
      " [-0.0999    0.222111 -0.095571 -0.2664  ]\n",
      " [-0.0861   -0.095571  0.204631 -0.2296  ]\n",
      " [-0.24     -0.2664   -0.2296    0.16    ]]\n",
      "sigma22 \n",
      " [[ 0.215031 -0.183731 -0.0313  ]\n",
      " [-0.183731  0.242431 -0.0587  ]\n",
      " [-0.0313   -0.0587    0.09    ]]\n",
      "sigma12 \n",
      " [[-0.0469    0.0439    0.003   ]\n",
      " [ 0.055771 -0.075471  0.0197  ]\n",
      " [-0.002831  0.031531 -0.0287  ]\n",
      " [-0.2304   -0.4226   -0.067   ]]\n"
     ]
    }
   ],
   "source": [
    "# ******************* EXAMPLE 3.8 *******************\n",
    "p1 = np.array([0.3, 0.333, 0.287, 0.8])\n",
    "sigma11 = np.diag(p1) - np.outer(p1, p1[np.newaxis])\n",
    "print(f'sigma11 \\n {sigma11}')\n",
    "p2 = np.array([0.313, 0.587, 0.1])\n",
    "sigma22 = np.diag(p2) - np.outer(p2, p2[np.newaxis])\n",
    "print(f'sigma22 \\n {sigma22}')\n",
    "p12 = np.array([[0.047, 0.22, 0.033], [0.16, 0.12, 0.053], [0.087, 0.2, 0.0], [0.02, 0.047, 0.013]])\n",
    "sigma12 = p12 - np.outer(p1, p2[np.newaxis])\n",
    "print(f'sigma12 \\n {sigma12}')"
   ]
  },
  {
   "cell_type": "code",
   "execution_count": 12,
   "id": "230c0ac0-1606-4510-9201-eadd143b0444",
   "metadata": {},
   "outputs": [
    {
     "name": "stdout",
     "output_type": "stream",
     "text": [
      "Covariance matrix \n",
      " [[ 22.   -9.5]\n",
      " [ -9.5 266.3]]\n"
     ]
    }
   ],
   "source": [
    "A1 = np.array([8, 0, 10, 10, 2])\n",
    "A2 = np.array([-20, -1, -19, -20, 0])\n",
    "D = np.array([[8, -20], [0, -1], [10, 19], [10, -20], [2, 0]])\n",
    "D_mean = np.mean(D, axis=0)\n",
    "Sigma = np.cov(D - D_mean, rowvar=False)\n",
    "print(f'Covariance matrix \\n {Sigma}')"
   ]
  },
  {
   "cell_type": "code",
   "execution_count": 13,
   "id": "0446db2b-bfbf-42bf-bd6f-97a675cea6a1",
   "metadata": {},
   "outputs": [
    {
     "name": "stdout",
     "output_type": "stream",
     "text": [
      "eigenvalues \n",
      " [ 21.63113411 266.66886589]\n",
      "eigenvectors \n",
      " [[-0.99924704  0.03879875]\n",
      " [-0.03879875 -0.99924704]]\n"
     ]
    }
   ],
   "source": [
    "e_values, e_vectors = np.linalg.eig(Sigma)\n",
    "print(f'eigenvalues \\n {e_values}')\n",
    "print(f'eigenvectors \\n {e_vectors}')"
   ]
  },
  {
   "cell_type": "code",
   "execution_count": 14,
   "id": "ce3f0f1d-1a56-41bb-8492-797fd55965a2",
   "metadata": {},
   "outputs": [],
   "source": [
    "new_x0 = np.dot(e_vectors.transpose(), (D - D_mean)[0])\n",
    "new_x1 = np.dot(e_vectors.transpose(), (D - D_mean)[1])\n",
    "new_x2 = np.dot(e_vectors.transpose(), (D - D_mean)[2])\n",
    "new_x3 = np.dot(e_vectors.transpose(), (D - D_mean)[3])\n",
    "new_x4 = np.dot(e_vectors.transpose(), (D - D_mean)[4])\n",
    "new_D = np.stack((new_x0, new_x1, new_x2, new_x3, new_x4))\n",
    "new_D_mean = np.mean(new_D, axis=0)\n",
    "new_Sigma = np.cov(new_D - new_D_mean, rowvar=False)\n",
    "new_e_values, new_e_vectors = np.linalg.eig(new_Sigma)"
   ]
  },
  {
   "cell_type": "code",
   "execution_count": 15,
   "id": "e402284e-659b-4a99-81bd-471529fc8cb8",
   "metadata": {},
   "outputs": [
    {
     "data": {
      "image/png": "[encoded data removed]",
      "text/plain": [
       "<Figure size 432x288 with 1 Axes>"
      ]
     },
     "metadata": {
      "needs_background": "light"
     },
     "output_type": "display_data"
    }
   ],
   "source": [
    "plt.scatter(A1, A2, color='red', marker='o', label='Point')\n",
    "plt.scatter(new_D[:, 0], new_D[:, 1], color='blue', marker='v', label='x')\n",
    "plt.show()"
   ]
  },
  {
   "cell_type": "code",
   "execution_count": 16,
   "id": "cdcbd9c8-24c1-474b-80b5-b8960f346252",
   "metadata": {},
   "outputs": [],
   "source": [
    "from scipy.stats import multivariate_normal\n",
    "\n",
    "\n",
    "def gauss2d(mu, sigma, to_plot=False):\n",
    "    w, h = 100, 100\n",
    "\n",
    "    std = [np.sqrt(sigma[0, 0]), np.sqrt(sigma[1, 1])]\n",
    "    x = np.linspace(mu[0] - 3 * std[0], mu[0] + 3 * std[0], w)\n",
    "    y = np.linspace(mu[1] - 3 * std[1], mu[1] + 3 * std[1], h)\n",
    "\n",
    "    x, y = np.meshgrid(x, y)\n",
    "\n",
    "    x_ = x.flatten()\n",
    "    y_ = y.flatten()\n",
    "    xy = np.vstack((x_, y_)).T\n",
    "\n",
    "    normal_rv = multivariate_normal(mu, sigma)\n",
    "    z = normal_rv.pdf(xy)\n",
    "    z = z.reshape(w, h, order='F')\n",
    "\n",
    "    if to_plot:\n",
    "        plt.contourf(x, y, z.T)\n",
    "        plt.scatter(A1, A2, color='red', marker='o', label='Point')\n",
    "        plt.show()\n",
    "\n",
    "    return z"
   ]
  },
  {
   "cell_type": "code",
   "execution_count": 17,
   "id": "4300e05a-3a6f-4554-9dc8-4c45b9ad9514",
   "metadata": {},
   "outputs": [
    {
     "data": {
      "image/png": "[encoded data removed]",
      "text/plain": [
       "<Figure size 432x288 with 1 Axes>"
      ]
     },
     "metadata": {
      "needs_background": "light"
     },
     "output_type": "display_data"
    }
   ],
   "source": [
    "z = gauss2d(D_mean, Sigma, True)"
   ]
  },
  {
   "cell_type": "code",
   "execution_count": 18,
   "id": "25a10dd1-58b8-4936-adb1-beeaa1c0881a",
   "metadata": {},
   "outputs": [
    {
     "data": {
      "image/png": "[encoded data removed]",
      "text/plain": [
       "<Figure size 432x288 with 1 Axes>"
      ]
     },
     "metadata": {
      "needs_background": "light"
     },
     "output_type": "display_data"
    },
    {
     "data": {
      "text/plain": [
       "array([[2.58609213e-07, 3.09605754e-07, 3.69299610e-07, ...,\n",
       "        3.69299610e-07, 3.09605754e-07, 2.58609213e-07],\n",
       "       [3.09605754e-07, 3.70658577e-07, 4.42123786e-07, ...,\n",
       "        4.42123786e-07, 3.70658577e-07, 3.09605754e-07],\n",
       "       [3.69299610e-07, 4.42123786e-07, 5.27367918e-07, ...,\n",
       "        5.27367918e-07, 4.42123786e-07, 3.69299610e-07],\n",
       "       ...,\n",
       "       [3.69299610e-07, 4.42123786e-07, 5.27367918e-07, ...,\n",
       "        5.27367918e-07, 4.42123786e-07, 3.69299610e-07],\n",
       "       [3.09605754e-07, 3.70658577e-07, 4.42123786e-07, ...,\n",
       "        4.42123786e-07, 3.70658577e-07, 3.09605754e-07],\n",
       "       [2.58609213e-07, 3.09605754e-07, 3.69299610e-07, ...,\n",
       "        3.69299610e-07, 3.09605754e-07, 2.58609213e-07]])"
      ]
     },
     "execution_count": 18,
     "metadata": {},
     "output_type": "execute_result"
    }
   ],
   "source": [
    "gauss2d(new_D_mean, new_Sigma, True)"
   ]
  },
  {
   "cell_type": "code",
   "execution_count": 19,
   "id": "9623f54e-beb9-4b84-89fa-434036787d3e",
   "metadata": {},
   "outputs": [
    {
     "name": "stdout",
     "output_type": "stream",
     "text": [
      "[0.92497005 0.07502995]\n"
     ]
    }
   ],
   "source": [
    "from sklearn.decomposition import PCA\n",
    "pca = PCA(n_components=2)\n",
    "D = np.array([[8, -20], [0, -1], [10, 19], [10, -20], [2, 0]])\n",
    "pca.fit(D)\n",
    "print(pca.explained_variance_ratio_)"
   ]
  },
  {
   "cell_type": "code",
   "execution_count": 20,
   "id": "73f224e8-3fe9-44bb-a167-9724d6139eac",
   "metadata": {},
   "outputs": [
    {
     "name": "stdout",
     "output_type": "stream",
     "text": [
      "eigenvalues \n",
      " [9. 1.]\n",
      "eigenvectors \n",
      " [[ 0.70710678 -0.70710678]\n",
      " [ 0.70710678  0.70710678]]\n"
     ]
    }
   ],
   "source": [
    "sigma = np.array([[5, 4], [4, 5]])\n",
    "e_values, e_vectors = np.linalg.eig(sigma)\n",
    "print(f'eigenvalues \\n {e_values}')\n",
    "print(f'eigenvectors \\n {e_vectors}')"
   ]
  },
  {
   "cell_type": "code",
   "execution_count": 21,
   "id": "1649003e-fc12-4735-90e6-7a395308238b",
   "metadata": {},
   "outputs": [
    {
     "name": "stdout",
     "output_type": "stream",
     "text": [
      "[[1. 0.]\n",
      " [0. 1.]]\n",
      "[1.41421356 1.        ]\n",
      "[[ 0.70710678  0.70710678  0.        ]\n",
      " [ 0.          0.          1.        ]\n",
      " [ 0.70710678 -0.70710678  0.        ]]\n"
     ]
    }
   ],
   "source": [
    "data = np.array([[1, 1, 0], [0, 0, 1]])\n",
    "l, s, r = np.linalg.svd(data)\n",
    "print(l)\n",
    "print(s)\n",
    "print(r)"
   ]
  },
  {
   "cell_type": "code",
   "execution_count": 22,
   "id": "d915f1c7-00ca-4276-a0a0-5a1f10e0547b",
   "metadata": {},
   "outputs": [],
   "source": [
    "Data = np.array([[4, 2.9], [2.5, 1], [3.5, 4], [2, 2.1]])\n",
    "K = np.ones((4, 4))\n",
    "K[0][0] = np.dot(Data[0], Data[0])\n",
    "K[0][1] = np.dot(Data[0], Data[1])\n",
    "K[1][0] = np.dot(Data[0], Data[1])\n",
    "K[0][2] = np.dot(Data[0], Data[2])\n",
    "K[2][0] = np.dot(Data[0], Data[2])\n",
    "K[0][3] = np.dot(Data[0], Data[3])\n",
    "K[3][0] = np.dot(Data[0], Data[3])\n",
    "K[1][1] = np.dot(Data[1], Data[1])\n",
    "K[1][2] = np.dot(Data[1], Data[2])\n",
    "K[2][1] = np.dot(Data[2], Data[1])\n",
    "K[1][3] = np.dot(Data[1], Data[3])\n",
    "K[3][1] = np.dot(Data[1], Data[3])\n",
    "K[2][2] = np.dot(Data[2], Data[2])\n",
    "K[2][3] = np.dot(Data[2], Data[3])\n",
    "K[3][2] = np.dot(Data[3], Data[2])\n",
    "K[3][3] = np.dot(Data[3], Data[3])"
   ]
  },
  {
   "cell_type": "code",
   "execution_count": 23,
   "id": "18238d6a-c08c-4176-8e2c-323043d12834",
   "metadata": {},
   "outputs": [],
   "source": [
    "\n",
    "K_hat = np.matmul(np.matmul(np.identity(4) - 0.25 * np.ones((4, 4)), K), np.identity(4) - 0.25 * np.ones((4, 4)))"
   ]
  },
  {
   "cell_type": "code",
   "execution_count": 24,
   "id": "bac8f3cf-79e5-461e-adf2-2f5c47c10241",
   "metadata": {},
   "outputs": [
    {
     "name": "stdout",
     "output_type": "stream",
     "text": [
      "eigenvalues \n",
      " [ 6.23596584e+00  1.08403416e+00 -3.38676424e-16 -2.15906486e-15]\n",
      "eigenvectors \n",
      " [[-0.34634043 -0.61648058 -0.48686194  0.68463649]\n",
      " [ 0.61648058 -0.34634043 -0.51280157 -0.17684141]\n",
      " [-0.61648058  0.34634043 -0.51280157 -0.17684141]\n",
      " [ 0.34634043  0.61648058 -0.48686194  0.68463649]]\n"
     ]
    }
   ],
   "source": [
    "e_values, e_vectors = np.linalg.eig(K_hat)\n",
    "print(f'eigenvalues \\n {e_values}')\n",
    "print(f'eigenvectors \\n {e_vectors}')"
   ]
  },
  {
   "cell_type": "code",
   "execution_count": 25,
   "id": "92ee380b-00ad-4b5f-8a73-c49ee39b2d1d",
   "metadata": {},
   "outputs": [],
   "source": [
    "Data = np.array([[1, 2], [2, 1]])\n",
    "K = np.ones((2, 2))\n",
    "K[0][0] = np.dot(Data[0], Data[0]) * np.dot(Data[0], Data[0])\n",
    "K[0][1] = np.dot(Data[0], Data[1]) * np.dot(Data[0], Data[1])\n",
    "K[1][0] = np.dot(Data[0], Data[1]) * np.dot(Data[0], Data[1])\n",
    "K[1][1] = np.dot(Data[1], Data[1]) * np.dot(Data[1], Data[1])\n",
    "K_hat = np.matmul(np.matmul(np.identity(2) - 0.5 * np.ones((2, 2)), K), np.identity(2) - 0.5 * np.ones((2, 2)))"
   ]
  },
  {
   "cell_type": "code",
   "execution_count": 26,
   "id": "944502f6-8bdd-4467-a7e6-c583bd5eee1f",
   "metadata": {},
   "outputs": [
    {
     "name": "stdout",
     "output_type": "stream",
     "text": [
      "eigenvalues \n",
      " [ 9.0000000e+00 -8.8817842e-16]\n",
      "eigenvectors \n",
      " [[ 0.70710678  0.70710678]\n",
      " [-0.70710678  0.70710678]]\n"
     ]
    }
   ],
   "source": [
    "e_values, e_vectors = np.linalg.eig(K_hat)\n",
    "print(f'eigenvalues \\n {e_values}')\n",
    "print(f'eigenvectors \\n {e_vectors}')"
   ]
  },
  {
   "cell_type": "code",
   "execution_count": 27,
   "id": "9d2c4116-8c3b-46da-8c54-1106a1cfe055",
   "metadata": {},
   "outputs": [],
   "source": [
    "###################"
   ]
  },
  {
   "cell_type": "code",
   "execution_count": 28,
   "id": "3d2daadf-a57d-4927-a316-3be8555fbe36",
   "metadata": {},
   "outputs": [
    {
     "name": "stdout",
     "output_type": "stream",
     "text": [
      "meann:  0.115\n",
      "std:  0.07328710664230101\n",
      "[ 0.030719827361353855 , 0.19928017263864617 ]\n"
     ]
    }
   ],
   "source": [
    "import numpy as np\n",
    "d = np.array([0.0, 0.153, 0.077, 0.153, 0.077, 0.23])\n",
    "print('meann: ', d.mean())\n",
    "print('std: ', d.std())\n",
    "l = d.mean() - 1.15 * d.std()\n",
    "r = d.mean() + 1.15 * d.std()\n",
    "print('[', l, ',', r, ']')"
   ]
  },
  {
   "cell_type": "code",
   "execution_count": 63,
   "id": "714ee912-8e97-49f9-ba94-95184e395e88",
   "metadata": {},
   "outputs": [
    {
     "name": "stdout",
     "output_type": "stream",
     "text": [
      "[1, 2, 3, 6, 7, 8]\n",
      "[0, 4, 5, 9]\n",
      "0.75 0.25\n"
     ]
    },
    {
     "data": {
      "text/plain": [
       "0.9999999980313337"
      ]
     },
     "execution_count": 63,
     "metadata": {},
     "output_type": "execute_result"
    }
   ],
   "source": [
    "X = np.array([[0.5, 4.5, 2.5], \n",
    "              [2.2, 1.5, 0.1], \n",
    "              [3.9, 3.5, 1.1], \n",
    "              [2.1, 1.9, 4.9], \n",
    "              [0.5, 3.2, 1.2], \n",
    "              [0.8, 4.3, 2.6], \n",
    "              [2.7, 1.1, 3.1], \n",
    "              [2.5, 3.5, 2.8], \n",
    "              [2.8, 3.9, 1.5], \n",
    "              [0.1, 4.1, 2.9]])\n",
    "mu1 = np.array([0.5, 4.5, 2.5])\n",
    "mu2 = np.array([2.5, 2.0, 1.5])\n",
    "\n",
    "cluster1 = []\n",
    "cluster2 = []\n",
    "\n",
    "def dist (a, b):\n",
    "    return np.linalg.norm(a-b)\n",
    "\n",
    "for i in range(10):\n",
    "    if dist(X[i], mu1) >= dist(X[i], mu2):\n",
    "        cluster1.append(i)\n",
    "    else:\n",
    "        cluster2.append(i)\n",
    "        \n",
    "print(cluster1)\n",
    "print(cluster2)\n",
    "p_c1 = 3.0/4\n",
    "p_c2 = 1 - p_c1\n",
    "print(p_c1, p_c2)\n",
    "X1 = X[cluster1, :]\n",
    "X2 = X[cluster2, :]\n",
    "cov1 = np.cov(X1, rowvar=False)\n",
    "cov2 = np.cov(X2, rowvar=False)\n",
    "\n",
    "from scipy.stats import multivariate_normal\n",
    "\n",
    "x11 = multivariate_normal.pdf(X[8, :], mu1, cov1) * p_c1\n",
    "x12 = multivariate_normal.pdf(X[8, :], mu2, cov2) * p_c2\n",
    "\n",
    "PC1 = x11 / (x11 + x12)\n",
    "PC1"
   ]
  },
  {
   "cell_type": "code",
   "execution_count": 66,
   "id": "29b9824b-886f-4537-855d-2ac61c2146bf",
   "metadata": {},
   "outputs": [
    {
     "name": "stdout",
     "output_type": "stream",
     "text": [
      "[[2.33 1.65 1.87 2.18]\n",
      " [1.65 1.62 1.69 1.58]\n",
      " [1.87 1.69 1.81 1.78]\n",
      " [2.18 1.58 1.78 2.05]]\n"
     ]
    }
   ],
   "source": [
    "X = np.array([[0.4, 0.9, 0.6], [0.5, 0.1, 0.6], [0.6, 0.3, 0.6], [0.4, 0.8, 0.5]])\n",
    "\n",
    "K = np.empty((4, 4))\n",
    "for i in range(4):\n",
    "    for j in range(4):\n",
    "        K[i, j] = 1 + np.dot(X[i, :], X[j, :])\n",
    "        \n",
    "print(K)\n",
    "cluster1 = [0, 1]\n",
    "cluster2 = [2, 3]"
   ]
  },
  {
   "cell_type": "code",
   "execution_count": null,
   "id": "8c472969-733d-4073-b8dc-a64afdc6870d",
   "metadata": {},
   "outputs": [],
   "source": []
  }
 ],
 "metadata": {
  "kernelspec": {
   "display_name": "Python 3 (ipykernel)",
   "language": "python",
   "name": "python3"
  },
  "language_info": {
   "codemirror_mode": {
    "name": "ipython",
    "version": 3
   },
   "file_extension": ".py",
   "mimetype": "text/x-python",
   "name": "python",
   "nbconvert_exporter": "python",
   "pygments_lexer": "ipython3",
   "version": "3.9.12"
  }
 },
 "nbformat": 4,
 "nbformat_minor": 5
}
