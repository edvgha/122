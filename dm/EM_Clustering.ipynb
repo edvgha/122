{
 "cells": [
  {
   "cell_type": "code",
   "execution_count": 1,
   "id": "59236f0f-73ef-4370-84eb-6a2c1331e449",
   "metadata": {},
   "outputs": [],
   "source": [
    "import pandas as pd\n",
    "import numpy as np\n",
    "from scipy.stats import multivariate_normal\n",
    "\n",
    "df = pd.read_csv('iris.data', sep=',', header=None)\n",
    "df.columns = ['sepal-length', 'sepal-width', 'petal-length', 'petal-width','class']\n",
    "\n",
    "df.head()\n",
    "pd.unique(df['class'])\n",
    "df = df.sample(frac=1).reset_index(drop=True)"
   ]
  },
  {
   "cell_type": "code",
   "execution_count": 2,
   "id": "9af3b20d-6bb8-4b5f-b9bc-ddc605a9e017",
   "metadata": {},
   "outputs": [
    {
     "name": "stdout",
     "output_type": "stream",
     "text": [
      "150\n"
     ]
    }
   ],
   "source": [
    "X = df[['sepal-length', 'sepal-width', 'petal-length', 'petal-width']].to_numpy()\n",
    "y = df[['class']].to_numpy()\n",
    "print(X.shape[0])"
   ]
  },
  {
   "cell_type": "code",
   "execution_count": 3,
   "id": "5de3e2e7-266f-43fc-99f8-4aa4d1eea60d",
   "metadata": {},
   "outputs": [],
   "source": [
    "class EMClustering:\n",
    "    def __init__(self, k, eps):\n",
    "        self.k = k\n",
    "        self.eps = eps\n",
    "        self.t = 0\n",
    "        \n",
    "    def fit(self, X):\n",
    "        self.initialize(X)\n",
    "        while True:\n",
    "            self.t += 1\n",
    "            self.expectation_step(X)\n",
    "            mus, sigmas, probs = self.maximization_step(X)\n",
    "            if self.should_break(mus):\n",
    "                print(f'total steps: {self.t}')\n",
    "                break\n",
    "            self.update_params(mus, sigmas, probs)\n",
    "                \n",
    "    def initialize(self, X):\n",
    "        self.clusters = np.split(X, self.k)\n",
    "        self.mus = []\n",
    "        self.sigmas = []\n",
    "        for i in range(self.k):\n",
    "            cluster = self.clusters[i]\n",
    "            self.mus.append(cluster.mean(axis=0))\n",
    "            self.sigmas.append(np.cov(cluster, rowvar=False))\n",
    "        self.priors = [1/(self.k + 0.0) for i in range(self.k)]\n",
    "        self.W = np.empty((self.k, X.shape[0]))\n",
    "    \n",
    "    def update_params(self, mus, sigmas, priors):\n",
    "        self.mus = mus\n",
    "        self.sigmas = sigmas\n",
    "        self.priors = priors\n",
    "        \n",
    "    def should_break(self, mus):\n",
    "        sum_all = 0;\n",
    "        for i in range(self.k):\n",
    "            n = np.linalg.norm(mus[i] - self.mus[i])\n",
    "            sum_all += n * n\n",
    "        return True if sum_all <= self.eps else False\n",
    "    \n",
    "    def expectation_step(self, X):\n",
    "        for i in range(self.k):\n",
    "            for j in range(X.shape[0]):\n",
    "                self.W[i, j] = (multivariate_normal.pdf(X[j, :], self.mus[i], self.sigmas[i]) * self.priors[i]) / self.total_probability(X[j, :])\n",
    "                \n",
    "    def total_probability(self, x):\n",
    "        total = 0\n",
    "        for i in range(self.k):\n",
    "            total += multivariate_normal.pdf(x, self.mus[i], self.sigmas[i]) * self.priors[i]\n",
    "        return total\n",
    "    \n",
    "    def maximization_step(self, X):\n",
    "        mus = []\n",
    "        sigmas = []\n",
    "        priors = []\n",
    "        for i in range(self.k):\n",
    "            mus.append(self.re_estimate_mean(i, X))\n",
    "            sigmas.append(self.re_estimate_cov_matrix(i, X))\n",
    "            priors.append(self.re_estimate_priors(i, X))\n",
    "        return mus, sigmas, priors\n",
    "    \n",
    "    def re_estimate_mean(self, i, X):\n",
    "        a = 0;\n",
    "        b = 0;\n",
    "        for j in range(X.shape[0]):\n",
    "            a += X[j, :] * self.W[i, j]\n",
    "            b += self.W[i, j]\n",
    "        return a / b\n",
    "    \n",
    "    def re_estimate_cov_matrix(self, i, X):\n",
    "        a = 0;\n",
    "        b = 0;\n",
    "        for j in range(X.shape[0]):\n",
    "            a += self.W[i, j] * np.outer((X[j, :] - self.mus[i]), (X[j, :] - self.mus[i]).transpose())\n",
    "            b += self.W[i, j]\n",
    "        return a / b\n",
    "    \n",
    "    def re_estimate_priors(self, i, X):\n",
    "        a = 0;\n",
    "        for j in range(X.shape[0]):\n",
    "            a += self.W[i, j]\n",
    "        return a / X.shape[0]\n",
    "    \n",
    "    def predict(self, X):\n",
    "        W = np.empty((self.k, X.shape[0]))\n",
    "        for i in range(self.k):\n",
    "            for j in range(X.shape[0]):\n",
    "                W[i, j] = (multivariate_normal.pdf(X[j, :], self.mus[i], self.sigmas[i]) * self.priors[i]) / self.total_probability(X[j, :])\n",
    "        return np.argmax(W, axis=0)\n",
    "        "
   ]
  },
  {
   "cell_type": "code",
   "execution_count": 4,
   "id": "c5f7314a-7574-4a45-b4db-fd5234f73418",
   "metadata": {},
   "outputs": [
    {
     "name": "stdout",
     "output_type": "stream",
     "text": [
      "total steps: 22\n"
     ]
    },
    {
     "data": {
      "text/plain": [
       "array([1, 0, 1, 0, 1, 2, 2, 0, 2, 0, 1, 0, 2, 1, 2, 0, 0, 0, 1, 1, 0, 0,\n",
       "       0, 2, 0, 0, 0, 1, 1, 1, 1, 0, 1, 1, 2, 0, 1, 1, 1, 2, 1, 1, 2, 2,\n",
       "       0, 1, 0, 0, 1, 1, 0, 2, 1, 1, 1, 0, 1, 2, 1, 1, 1, 1, 0, 1, 1, 0,\n",
       "       1, 2, 1, 0, 2, 1, 2, 1, 1, 0, 0, 2, 1, 0, 2, 1, 0, 2, 0, 1, 1, 2,\n",
       "       1, 2, 0, 0, 1, 2, 1, 2, 2, 0, 1, 2, 0, 2, 0, 2, 0, 1, 0, 2, 2, 2,\n",
       "       2, 0, 0, 2, 1, 2, 1, 1, 0, 1, 0, 1, 1, 1, 0, 2, 2, 1, 1, 2, 0, 0,\n",
       "       0, 0, 1, 1, 0, 1, 0, 0, 2, 2, 0, 0, 1, 1, 2, 1, 1, 1])"
      ]
     },
     "execution_count": 4,
     "metadata": {},
     "output_type": "execute_result"
    }
   ],
   "source": [
    "emc = EMClustering(3, 0.001)\n",
    "emc.fit(X)\n",
    "emc.predict(X)"
   ]
  },
  {
   "cell_type": "code",
   "execution_count": 6,
   "id": "391692f0-57fb-4f97-9bea-4b2ad8397a64",
   "metadata": {},
   "outputs": [
    {
     "data": {
      "image/png": "[encoded data removed]",
      "text/plain": [
       "<Figure size 432x288 with 1 Axes>"
      ]
     },
     "metadata": {
      "needs_background": "light"
     },
     "output_type": "display_data"
    }
   ],
   "source": [
    "import matplotlib.pyplot as plt\n",
    "from sklearn.datasets import make_moons\n",
    "\n",
    "\n",
    "X, y = make_moons(n_samples=200, noise=0.05, random_state=0)\n",
    "plt.scatter(X[:, 0], X[:, 1])\n",
    "\n",
    "plt.xlabel('Feature 1')\n",
    "plt.ylabel('Feature 2')\n",
    "\n",
    "plt.tight_layout()\n",
    "plt.show()"
   ]
  },
  {
   "cell_type": "code",
   "execution_count": 8,
   "id": "ad8ebaa6-8c72-443d-9e58-25c713785e51",
   "metadata": {},
   "outputs": [
    {
     "name": "stdout",
     "output_type": "stream",
     "text": [
      "total steps: 1\n"
     ]
    }
   ],
   "source": [
    "emc = EMClustering(2, 0.001)\n",
    "emc.fit(X)\n",
    "y_pred = emc.predict(X)"
   ]
  },
  {
   "cell_type": "code",
   "execution_count": 9,
   "id": "7d6c0a67-b76c-4539-9c6d-13fe15cba554",
   "metadata": {},
   "outputs": [
    {
     "data": {
      "image/png": "[encoded data removed]",
      "text/plain": [
       "<Figure size 432x288 with 1 Axes>"
      ]
     },
     "metadata": {
      "needs_background": "light"
     },
     "output_type": "display_data"
    }
   ],
   "source": [
    "plt.scatter(X[y_pred == 0, 0], X[y_pred == 0, 1],\n",
    "            c='lightblue', marker='o', s=40,\n",
    "            edgecolor='black', \n",
    "            label='Cluster 1')\n",
    "plt.scatter(X[y_pred == 1, 0], X[y_pred == 1, 1],\n",
    "            c='red', marker='s', s=40,\n",
    "            edgecolor='black', \n",
    "            label='Cluster 2')\n",
    "\n",
    "plt.xlabel('Feature 1')\n",
    "plt.ylabel('Feature 2')\n",
    "\n",
    "plt.legend()\n",
    "plt.tight_layout()\n",
    "plt.show()"
   ]
  },
  {
   "cell_type": "code",
   "execution_count": null,
   "id": "c8c867a6-2b07-4625-9f66-7406d2ff8310",
   "metadata": {},
   "outputs": [],
   "source": []
  }
 ],
 "metadata": {
  "kernelspec": {
   "display_name": "Python 3 (ipykernel)",
   "language": "python",
   "name": "python3"
  },
  "language_info": {
   "codemirror_mode": {
    "name": "ipython",
    "version": 3
   },
   "file_extension": ".py",
   "mimetype": "text/x-python",
   "name": "python",
   "nbconvert_exporter": "python",
   "pygments_lexer": "ipython3",
   "version": "3.9.12"
  }
 },
 "nbformat": 4,
 "nbformat_minor": 5
}
