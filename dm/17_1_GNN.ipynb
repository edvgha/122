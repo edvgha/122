{
 "cells": [
  {
   "cell_type": "code",
   "execution_count": 1,
   "id": "2fff854d-ef63-4e91-a751-110a0c16a309",
   "metadata": {},
   "outputs": [],
   "source": [
    "import networkx as nx\n",
    "import numpy as np"
   ]
  },
  {
   "cell_type": "code",
   "execution_count": 2,
   "id": "a6610423-8367-48cb-ad6f-eca95d0f489c",
   "metadata": {},
   "outputs": [
    {
     "name": "stdout",
     "output_type": "stream",
     "text": [
      "[[0 1 1 0]\n",
      " [1 0 1 0]\n",
      " [1 1 0 1]\n",
      " [0 0 1 0]]\n"
     ]
    },
    {
     "name": "stderr",
     "output_type": "stream",
     "text": [
      "/var/folders/6s/fk_m3xbj6k99p2ch5cby1chr0000gn/T/ipykernel_59450/3108053774.py:12: FutureWarning: adjacency_matrix will return a scipy.sparse array instead of a matrix in Networkx 3.0.\n",
      "  A = np.asarray(nx.adjacency_matrix(G).todense())\n"
     ]
    }
   ],
   "source": [
    "G = nx.Graph()\n",
    "\n",
    "#Hex codes for colors if we draw graph\n",
    "blue, orange, green = \"#1f77b4\", \"#ff7f0e\",\"#2ca02c\"\n",
    "\n",
    "G.add_nodes_from([(1, {\"color\": blue}),\n",
    "                  (2, {\"color\": orange}),\n",
    "                  (3, {\"color\": blue}),\n",
    "                  (4, {\"color\": green})])\n",
    "\n",
    "G.add_edges_from([(1, 2),(2, 3),(1, 3),(3, 4)])\n",
    "A = np.asarray(nx.adjacency_matrix(G).todense())\n",
    "print(A)"
   ]
  },
  {
   "cell_type": "code",
   "execution_count": 3,
   "id": "f246b13f-e83e-48fe-bd2c-6653270a54e2",
   "metadata": {},
   "outputs": [
    {
     "name": "stdout",
     "output_type": "stream",
     "text": [
      "[[0. 1. 0.]\n",
      " [0. 0. 1.]\n",
      " [0. 1. 0.]\n",
      " [1. 0. 0.]]\n"
     ]
    }
   ],
   "source": [
    "def build_graph_color_label_representation(G,mapping_dict):\n",
    "    one_hot_idxs = np.array([mapping_dict[v] for v in \n",
    "                             nx.get_node_attributes(G, 'color').values()])\n",
    "    one_hot_encoding = np.zeros((one_hot_idxs.size,len(mapping_dict)))\n",
    "    one_hot_encoding[np.arange(one_hot_idxs.size),one_hot_idxs] = 1\n",
    "    return one_hot_encoding\n",
    "\n",
    "X = build_graph_color_label_representation(G, {green: 0, blue: 1, orange: 2})\n",
    "print(X)"
   ]
  },
  {
   "cell_type": "code",
   "execution_count": 4,
   "id": "884b2075-9612-4987-a246-599373847cf4",
   "metadata": {},
   "outputs": [
    {
     "data": {
      "image/png": "[encoded data removed]",
      "text/plain": [
       "<Figure size 432x288 with 1 Axes>"
      ]
     },
     "metadata": {},
     "output_type": "display_data"
    }
   ],
   "source": [
    "color_map = nx.get_node_attributes(G, 'color').values()\n",
    "nx.draw(G, with_labels=True, node_color=color_map)"
   ]
  },
  {
   "cell_type": "code",
   "execution_count": 5,
   "id": "085f152c-f28d-4e04-98f7-7d0a6831f488",
   "metadata": {},
   "outputs": [],
   "source": [
    "f_in, f_out = X.shape[1], 6\n",
    "W_1 = np.random.rand(f_in, f_out) \n",
    "W_2 = np.random.rand(f_in, f_out) \n",
    "h = np.dot(X,W_1) + np.dot(np.dot(A, X), W_2)"
   ]
  },
  {
   "cell_type": "code",
   "execution_count": 6,
   "id": "d73d4bce-1aa5-46a0-bc00-c0173bf96e8d",
   "metadata": {},
   "outputs": [
    {
     "name": "stderr",
     "output_type": "stream",
     "text": [
      "/Users/edvard/.local/share/virtualenvs/pyml-ZGva7g9H/lib/python3.9/site-packages/tqdm/auto.py:22: TqdmWarning: IProgress not found. Please update jupyter and ipywidgets. See https://ipywidgets.readthedocs.io/en/stable/user_install.html\n",
      "  from .autonotebook import tqdm as notebook_tqdm\n"
     ]
    }
   ],
   "source": [
    "import networkx as nx\n",
    "import torch\n",
    "from torch.nn.parameter import Parameter\n",
    "import numpy as np\n",
    "import torch.nn.functional as F"
   ]
  },
  {
   "cell_type": "code",
   "execution_count": 7,
   "id": "e878cb38-664a-4fe6-92bb-c56ee2119f06",
   "metadata": {},
   "outputs": [],
   "source": [
    "class NodeNetwork(torch.nn.Module):\n",
    "\n",
    "    def __init__(self, input_features):\n",
    "        super().__init__()\n",
    "        \n",
    "        self.conv_1 = BasicGraphConvolutionLayer(input_features, 32)\n",
    "        self.conv_2 = BasicGraphConvolutionLayer(32, 32)\n",
    "        self.fc_1 = torch.nn.Linear(32, 16)\n",
    "        self.out_layer = torch.nn.Linear(16, 2)\n",
    "    \n",
    "    def forward(self, X, A,batch_mat):\n",
    "        x = self.conv_1(X, A).clamp(0)\n",
    "        x = self.conv_2(x, A).clamp(0)\n",
    "        output = global_sum_pool(x, batch_mat)\n",
    "        output = self.fc_1(output)\n",
    "        output = self.out_layer(output)\n",
    "        return F.softmax(output, dim=1)"
   ]
  },
  {
   "cell_type": "code",
   "execution_count": 8,
   "id": "ef414298-23e4-411a-b8c9-b89d3248a089",
   "metadata": {},
   "outputs": [],
   "source": [
    "class BasicGraphConvolutionLayer(torch.nn.Module):\n",
    "\n",
    "    def __init__(self, in_channels, out_channels):\n",
    "        super().__init__()\n",
    "        self.in_channels = in_channels\n",
    "        self.out_channels = out_channels\n",
    "        \n",
    "        self.W2 = Parameter(torch.rand(\n",
    "             (in_channels, out_channels), dtype=torch.float32))\n",
    "        self.W1 = Parameter(torch.rand(\n",
    "             (in_channels, out_channels), dtype=torch.float32))\n",
    "         \n",
    "        self.bias = Parameter(torch.zeros(\n",
    "                 out_channels, dtype=torch.float32))\n",
    "    \n",
    "    def forward(self, X, A):\n",
    "        potential_msgs = torch.mm(X, self.W2)\n",
    "        propagated_msgs = torch.mm(A, potential_msgs)\n",
    "        root_update = torch.mm(X, self.W1)\n",
    "        output = propagated_msgs + root_update + self.bias\n",
    "        return output"
   ]
  },
  {
   "cell_type": "code",
   "execution_count": 9,
   "id": "1a5a3d69-a904-49cd-90c9-e1a933ded357",
   "metadata": {},
   "outputs": [
    {
     "name": "stdout",
     "output_type": "stream",
     "text": [
      "X.shape: (4, 3)\n"
     ]
    }
   ],
   "source": [
    "print('X.shape:', X.shape)"
   ]
  },
  {
   "cell_type": "code",
   "execution_count": 10,
   "id": "7a871d34-8668-447d-8da6-0fca43d5ab66",
   "metadata": {},
   "outputs": [
    {
     "name": "stdout",
     "output_type": "stream",
     "text": [
      "A.shape: (4, 4)\n"
     ]
    }
   ],
   "source": [
    "print('A.shape:', A.shape)"
   ]
  },
  {
   "cell_type": "code",
   "execution_count": 11,
   "id": "9a1ab096-292e-4db0-afe9-fa9ddad813f3",
   "metadata": {},
   "outputs": [],
   "source": [
    "basiclayer = BasicGraphConvolutionLayer(3, 8)"
   ]
  },
  {
   "cell_type": "code",
   "execution_count": 12,
   "id": "25aa687e-c78c-4de2-ae09-81858bf3e1df",
   "metadata": {},
   "outputs": [],
   "source": [
    "out = basiclayer(X=torch.tensor(X, dtype=torch.float32),A=torch.tensor(A, dtype=torch.float32))"
   ]
  },
  {
   "cell_type": "code",
   "execution_count": 13,
   "id": "56d4cdd3-17be-4604-a113-c688389832e9",
   "metadata": {},
   "outputs": [
    {
     "name": "stdout",
     "output_type": "stream",
     "text": [
      "Output shape: torch.Size([4, 8])\n"
     ]
    }
   ],
   "source": [
    "print('Output shape:', out.shape)"
   ]
  },
  {
   "cell_type": "code",
   "execution_count": 14,
   "id": "5b470b1d-6f04-4d55-93a7-68726663498b",
   "metadata": {},
   "outputs": [
    {
     "data": {
      "text/plain": [
       "tensor([[1.4607, 2.3568, 0.8547, 2.4495, 1.2775, 2.5050, 1.1815, 1.0993],\n",
       "        [0.6946, 1.3657, 0.6860, 2.2339, 1.9166, 1.3998, 1.9002, 2.5383],\n",
       "        [2.0485, 3.1002, 1.5595, 2.5878, 1.5957, 3.0359, 1.7090, 1.5298],\n",
       "        [0.4018, 1.2457, 0.9284, 1.6350, 1.2893, 1.4469, 0.9527, 1.1745]],\n",
       "       grad_fn=<AddBackward0>)"
      ]
     },
     "execution_count": 14,
     "metadata": {},
     "output_type": "execute_result"
    }
   ],
   "source": [
    "out"
   ]
  },
  {
   "cell_type": "code",
   "execution_count": 15,
   "id": "e6981c3c-b375-49c7-b71c-831e00674b72",
   "metadata": {},
   "outputs": [],
   "source": [
    "def global_sum_pool(X, batch_mat):\n",
    "    if batch_mat is None or batch_mat.dim() == 1:\n",
    "        return torch.sum(X, dim=0).unsqueeze(0)\n",
    "    else:\n",
    "        return torch.mm(batch_mat, X)"
   ]
  },
  {
   "cell_type": "code",
   "execution_count": 16,
   "id": "366722e9-5237-4370-8d0a-081b598618f3",
   "metadata": {},
   "outputs": [],
   "source": [
    "def get_batch_tensor(graph_sizes):\n",
    "    starts = [sum(graph_sizes[:idx]) for idx in range(len(graph_sizes))]\n",
    "    stops = [starts[idx]+graph_sizes[idx] for idx in range(len(graph_sizes))]\n",
    "    tot_len = sum(graph_sizes)\n",
    "    batch_size = len(graph_sizes)\n",
    "    batch_mat = torch.zeros([batch_size, tot_len]).float()\n",
    "    for idx, starts_and_stops in enumerate(zip(starts, stops)):\n",
    "        start = starts_and_stops[0]\n",
    "        stop = starts_and_stops[1]\n",
    "        batch_mat[idx, start:stop] = 1\n",
    "    return batch_mat"
   ]
  },
  {
   "cell_type": "code",
   "execution_count": 17,
   "id": "8f2b2e68-1adb-4ae1-9d3c-59b5e770972f",
   "metadata": {},
   "outputs": [],
   "source": [
    "def collate_graphs(batch):\n",
    "    adj_mats = [graph['A'] for graph in batch]\n",
    "    sizes = [A.size(0) for A in adj_mats]\n",
    "    tot_size = sum(sizes)\n",
    "    # create batch matrix\n",
    "    batch_mat = get_batch_tensor(sizes)\n",
    "    # combine feature matrices\n",
    "    feat_mats = torch.cat([graph['X'] for graph in batch],dim=0)\n",
    "    # combine labels\n",
    "    labels = torch.cat([graph['y'] for graph in batch], dim=0)\n",
    "    # combine adjacency matrices\n",
    "    batch_adj = torch.zeros([tot_size, tot_size], dtype=torch.float32)\n",
    "    accum = 0\n",
    "    for adj in adj_mats:\n",
    "        g_size = adj.shape[0]\n",
    "        batch_adj[accum:accum+g_size, accum:accum+g_size] = adj\n",
    "        accum = accum + g_size\n",
    "    repr_and_label = {\n",
    "            'A': batch_adj, \n",
    "            'X': feat_mats,\n",
    "            'y': labels,\n",
    "            'batch' : batch_mat}\n",
    "\n",
    "    return repr_and_label"
   ]
  },
  {
   "cell_type": "code",
   "execution_count": 18,
   "id": "c0ccdc6e-2371-42d4-bb7c-80343408ebb2",
   "metadata": {},
   "outputs": [],
   "source": [
    "def get_graph_dict(G, mapping_dict):\n",
    "    # build dictionary representation of graph G\n",
    "    A = torch.from_numpy(np.asarray(nx.adjacency_matrix(G).todense())).float()\n",
    "    # build_graph_color_label_representation() was introduced with the first example graph\n",
    "    X = torch.from_numpy(build_graph_color_label_representation(G,mapping_dict)).float()\n",
    "    # kludge since there is not specific task for this example\n",
    "    y = torch.tensor([[1, 0]]).float()\n",
    "    return {'A': A, 'X': X, 'y': y, 'batch': None}"
   ]
  },
  {
   "cell_type": "code",
   "execution_count": 19,
   "id": "e2203dc9-c9d2-45f0-a5f5-8a6544cdf6d8",
   "metadata": {},
   "outputs": [
    {
     "name": "stderr",
     "output_type": "stream",
     "text": [
      "/var/folders/6s/fk_m3xbj6k99p2ch5cby1chr0000gn/T/ipykernel_59450/2350266009.py:3: FutureWarning: adjacency_matrix will return a scipy.sparse array instead of a matrix in Networkx 3.0.\n",
      "  A = torch.from_numpy(np.asarray(nx.adjacency_matrix(G).todense())).float()\n"
     ]
    }
   ],
   "source": [
    "blue, orange, green = \"#1f77b4\", \"#ff7f0e\",\"#2ca02c\"\n",
    "mapping_dict = {green: 0, blue: 1, orange: 2}\n",
    "\n",
    "G1 = nx.Graph()\n",
    "G1.add_nodes_from([(1, {\"color\": blue}),\n",
    "                   (2, {\"color\": orange}),\n",
    "                   (3, {\"color\": blue}),\n",
    "                   (4, {\"color\": green})])\n",
    "G1.add_edges_from([(1, 2), (2, 3),(1, 3), (3, 4)])\n",
    "G2 = nx.Graph()\n",
    "G2.add_nodes_from([(1, {\"color\": green}),\n",
    "                   (2, {\"color\": green}),\n",
    "                   (3, {\"color\": orange}),\n",
    "                   (4, {\"color\": orange}),\n",
    "                   (5,{\"color\": blue})])\n",
    "G2.add_edges_from([(2, 3),(3, 4),(3, 1),(5, 1)])\n",
    "G3 = nx.Graph()\n",
    "G3.add_nodes_from([(1, {\"color\": orange}),\n",
    "                   (2, {\"color\": orange}),\n",
    "                   (3, {\"color\": green}),\n",
    "                   (4, {\"color\": green}),\n",
    "                   (5, {\"color\": blue}),\n",
    "                   (6, {\"color\":orange})])\n",
    "G3.add_edges_from([(2, 3), (3, 4), (3, 1), (5, 1), (2, 5), (6, 1)])\n",
    "G4 = nx.Graph()\n",
    "G4.add_nodes_from([(1, {\"color\": blue}), (2, {\"color\": blue}), (3, {\"color\": green})])\n",
    "G4.add_edges_from([(1, 2), (2, 3)])\n",
    "graph_list = [get_graph_dict(graph,mapping_dict) for graph in [G1, G2, G3, G4]]\n"
   ]
  },
  {
   "cell_type": "code",
   "execution_count": 20,
   "id": "2ab6a901-46db-433c-b3d5-798029bd761b",
   "metadata": {},
   "outputs": [],
   "source": [
    "from torch.utils.data import Dataset\n",
    "from torch.utils.data import DataLoader\n",
    "\n",
    "\n",
    "class ExampleDataset(Dataset):\n",
    "    \n",
    "    # Simple PyTorch dataset that will use our list of graphs\n",
    "    def __init__(self, graph_list):\n",
    "        self.graphs = graph_list\n",
    "        \n",
    "    def __len__(self):\n",
    "        return len(self.graphs)\n",
    "    \n",
    "    def __getitem__(self,idx):\n",
    "        mol_rep = self.graphs[idx]\n",
    "        return mol_rep"
   ]
  },
  {
   "cell_type": "code",
   "execution_count": 21,
   "id": "fb7830e1-dbc5-4523-9f1f-c567027e4dc5",
   "metadata": {},
   "outputs": [],
   "source": [
    "dset = ExampleDataset(graph_list)\n",
    "# Note how we use our custom collate function\n",
    "loader = DataLoader(dset, batch_size=2, shuffle=False, collate_fn=collate_graphs)"
   ]
  },
  {
   "cell_type": "code",
   "execution_count": 22,
   "id": "66cab59f-18b6-4ad2-a415-781654f8e91d",
   "metadata": {},
   "outputs": [],
   "source": [
    "torch.manual_seed(123)\n",
    "node_features = 3\n",
    "net = NodeNetwork(node_features)"
   ]
  },
  {
   "cell_type": "code",
   "execution_count": 23,
   "id": "01c1be05-f55b-4c73-95c4-2706c6e63504",
   "metadata": {},
   "outputs": [
    {
     "data": {
      "text/plain": [
       "tensor(True)"
      ]
     },
     "execution_count": 23,
     "metadata": {},
     "output_type": "execute_result"
    }
   ],
   "source": [
    "batch_results = []\n",
    "\n",
    "for b in loader:\n",
    "    batch_results.append(net(b['X'], b['A'], b['batch']).detach())\n",
    "\n",
    "G1_rep = dset[1]\n",
    "G1_single = net(G1_rep['X'], G1_rep['A'], G1_rep['batch']).detach()\n",
    "\n",
    "G1_batch = batch_results[0][1]\n",
    "torch.all(torch.isclose(G1_single, G1_batch))"
   ]
  },
  {
   "cell_type": "code",
   "execution_count": null,
   "id": "dd3f9876-b18a-44fb-ae37-aae4270ddf62",
   "metadata": {},
   "outputs": [],
   "source": []
  }
 ],
 "metadata": {
  "kernelspec": {
   "display_name": "Python 3 (ipykernel)",
   "language": "python",
   "name": "python3"
  },
  "language_info": {
   "codemirror_mode": {
    "name": "ipython",
    "version": 3
   },
   "file_extension": ".py",
   "mimetype": "text/x-python",
   "name": "python",
   "nbconvert_exporter": "python",
   "pygments_lexer": "ipython3",
   "version": "3.9.12"
  }
 },
 "nbformat": 4,
 "nbformat_minor": 5
}
