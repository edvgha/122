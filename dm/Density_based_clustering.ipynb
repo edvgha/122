{
 "cells": [
  {
   "cell_type": "markdown",
   "id": "d0f937a3-5773-4313-a0f7-2e7fb6cf8cf4",
   "metadata": {},
   "source": [
    "# DBSCAN"
   ]
  },
  {
   "cell_type": "code",
   "execution_count": null,
   "id": "5f6b9da6-5b59-4a02-888d-17b1707ed216",
   "metadata": {},
   "outputs": [],
   "source": [
    "import numpy as np\n",
    "from collections import defaultdict\n",
    "\n",
    "X = np.array([[5, 8], [10, 8], [11, 8], \n",
    "              [6, 7], [10, 7], [12, 7], [13, 7],\n",
    "              [5, 6], [10, 6], [13, 6], [14, 6], \n",
    "              [6, 5], [11, 5], [15, 5], \n",
    "              [2, 4], [3, 4], [5, 4], [6, 4], [7, 4], [9, 4], [15, 4], \n",
    "              [3, 3], [7, 3], \n",
    "              [8, 2]])\n",
    "\n",
    "labels = np.array(['a', 'b', 'c', 'd', 'e', 'f', 'g', 'h', 'i', 'j', 'n', 'k', 'm', 'o', 'p', 'q', 'r', 's', 't', 'l', 'u', 'v', 'w', 'x'])"
   ]
  },
  {
   "cell_type": "code",
   "execution_count": 2,
   "id": "2d584407-1953-4942-8f13-6ead1cad731b",
   "metadata": {},
   "outputs": [
    {
     "data": {
      "image/png": "[encoded data removed]",
      "text/plain": [
       "<Figure size 432x288 with 1 Axes>"
      ]
     },
     "metadata": {
      "needs_background": "light"
     },
     "output_type": "display_data"
    }
   ],
   "source": [
    "import matplotlib.pyplot as plt\n",
    "\n",
    "fig, ax = plt.subplots()\n",
    "ax.scatter(X[:, 0], X[:, 1], marker='X')\n",
    "\n",
    "for i, l in enumerate(labels):\n",
    "    ax.annotate(l, (X[i, 0], X[i, 1]), fontsize=13)"
   ]
  },
  {
   "cell_type": "code",
   "execution_count": 3,
   "id": "bbbdf312-0b5d-410d-b986-9aca3b248d10",
   "metadata": {},
   "outputs": [],
   "source": [
    "def dist(a, b):\n",
    "    return np.linalg.norm(a - b)\n",
    "\n",
    "class DBSCAN:\n",
    "    def __init__(self, X, labels, eps, minpts, distF):\n",
    "        self.X = X\n",
    "        self.labels = labels\n",
    "        self.eps = eps\n",
    "        self.minpts = minpts\n",
    "        self.distF = distF\n",
    "        self.core_points = defaultdict(list)\n",
    "        self.border_points = defaultdict(list)\n",
    "        self.visited = set()\n",
    "        self.path = []\n",
    "        self.cluster_ids = []\n",
    "        for i in range(X.shape[0]):\n",
    "            self.cluster_ids.append(-1)\n",
    "        \n",
    "    def __find_special_points(self):\n",
    "        for i, x in enumerate(self.X):\n",
    "            self.__save_if_core_point(i)\n",
    "        self.__find_border_points()\n",
    "            \n",
    "    def __save_if_core_point(self, index):\n",
    "        cnt = 0\n",
    "        for i, x in enumerate(self.X):\n",
    "            if i == index:\n",
    "                continue\n",
    "            if self.distF(X[i], X[index]) <= self.eps:\n",
    "                self.core_points[index].append(i)\n",
    "        if len(self.core_points[index]) < self.minpts:\n",
    "            del self.core_points[index]\n",
    "        \n",
    "    def __find_border_points(self):\n",
    "        for k, v in self.core_points.items():\n",
    "            for e in v:\n",
    "                self.border_points[e].append(k)\n",
    "                \n",
    "    def __is_density_reachable(self, s, e):\n",
    "        '''\n",
    "            Find path from s to e where e is a core point\n",
    "            if self.path is not empty then s density reachable from e\n",
    "            otherwise not\n",
    "        '''\n",
    "        if e not in self.core_points:\n",
    "            return False\n",
    "        if s == e:\n",
    "            return True\n",
    "        self.visited = set()\n",
    "        self.visited.add(s)\n",
    "        self.path = []\n",
    "        self.path.append(s)\n",
    "        self.__find_path(s, e)\n",
    "        self.visited = set()\n",
    "        # not density reachable\n",
    "        if len(self.path) == 1:\n",
    "            self.path = []\n",
    "        return self.path\n",
    "    \n",
    "    def __is_density_connected(self, s, e):\n",
    "        '''\n",
    "            Returns intermediet core point (index) if there is one\n",
    "            otherwise -1\n",
    "        '''\n",
    "        for k, _ in self.core_points.items():\n",
    "            if self.__is_density_reachable(s, k) and self.__is_density_reachable(e, k):\n",
    "                return k\n",
    "        return -1\n",
    "    \n",
    "    def __find_path(self, s, e):\n",
    "        l = self.border_points[s]\n",
    "        for i in l:\n",
    "            if i == e:\n",
    "                self.path.append(e)\n",
    "                return\n",
    "            \n",
    "        for i in l:\n",
    "            if i in self.visited:\n",
    "                continue\n",
    "            self.visited.add(i)\n",
    "            self.path.append(i)\n",
    "            self.__find_path(i, e)\n",
    "            if self.path[-1] == i:\n",
    "                # delete last element\n",
    "                self.path = self.path[:-1]\n",
    "            elif self.path[-1] == e:\n",
    "                return\n",
    "            \n",
    "    \n",
    "    def display_core_points(self):\n",
    "        if len(self.core_points) == 0:\n",
    "            self.__find_special_points()\n",
    "        for k, v in self.core_points.items():\n",
    "            print(f'core: {self.labels[k]}')\n",
    "            for e in v:\n",
    "                print(f'\\t{self.labels[e]}')\n",
    "                \n",
    "    def __display_path(self):\n",
    "        n = len(self.path)\n",
    "        for i in range(n - 1):\n",
    "            print(f'{self.labels[self.path[i]]} -> ', end =\" \")\n",
    "        print(f'{self.labels[self.path[n - 1]]}', end =\" \")\n",
    "        print()\n",
    "        \n",
    "    def get_labels_index(self, a, b):\n",
    "        i = 0\n",
    "        j = 0\n",
    "        for k, e in enumerate(self.labels):\n",
    "            if a == e:\n",
    "                i = k\n",
    "            if b == e:\n",
    "                j = k\n",
    "        return i, j\n",
    "                \n",
    "    def is_density_reachable(self, a, b):\n",
    "        i, j = self.get_labels_index(a, b)\n",
    "        if self.__is_density_reachable(i, j):\n",
    "            self.__display_path()\n",
    "            return\n",
    "        print(f'{a} and {b} are not density reachable')\n",
    "        \n",
    "    def is_density_connected(self, a, b):\n",
    "        i, j = self.get_labels_index(a, b)\n",
    "        core_point_index = self.__is_density_connected(i, j)\n",
    "        if core_point_index == -1:\n",
    "            print(f'{a} and {b} are not density connected')\n",
    "            return\n",
    "        print(\" ----> density connected paths\")\n",
    "        self.__is_density_reachable(i, core_point_index)\n",
    "        self.__display_path()\n",
    "        self.__is_density_reachable(j, core_point_index)\n",
    "        self.__display_path()\n",
    "        print(\" ----> end density connected paths\")\n",
    "        \n",
    "    def find_clusters(self):\n",
    "        self.__find_special_points()\n",
    "        c_id = 0\n",
    "        for k, v in self.core_points.items():\n",
    "            # no cluster ID\n",
    "            if self.cluster_ids[k] == -1:\n",
    "                c_id += 1\n",
    "                self.assign_cluster_id(k, c_id)\n",
    "        return self.cluster_ids\n",
    "                \n",
    "    def assign_cluster_id(self, k, c_id):\n",
    "        if self.cluster_ids[k] != -1:\n",
    "            return\n",
    "        self.cluster_ids[k] = c_id\n",
    "        points = self.core_points[k]\n",
    "        for p in points:\n",
    "            if p in self.core_points:\n",
    "                self.assign_cluster_id(p, c_id)\n",
    "            else:\n",
    "                self.cluster_ids[p] = c_id\n",
    "                \n",
    "    def display_clusters(self):\n",
    "        fig, ax = plt.subplots(figsize=(10,10))\n",
    "        ax.scatter(X[:, 0], X[:, 1], marker='X')\n",
    "        cluster_markers = ['o', 'v', '^', '<', '>', '8', 's', 'p', '*', 'h', 'H', 'D', 'd', 'P', 'X']\n",
    "        color_map = ['#1f77b4', '#ff7f0e', '#2ca02c', '#d62728', '#9467bd', '#8c564b', '#e377c2', '#7f7f7f', '#bcbd22', '#17becf']\n",
    "        for i in range(X.shape[0]):\n",
    "            ax.scatter(X[i, 0], X[i, 1], s=110, marker=cluster_markers[self.cluster_ids[i] - 1], c=color_map[self.cluster_ids[i] - 1])\n",
    "        \n",
    "        if self.labels is not None:\n",
    "            for i, l in enumerate(self.labels):\n",
    "                ax.annotate(l, (X[i, 0], X[i, 1]), fontsize=13)\n",
    "            \n",
    "        plt.show()"
   ]
  },
  {
   "cell_type": "code",
   "execution_count": 4,
   "id": "093896de-a683-4a83-b8e9-9055335121e7",
   "metadata": {},
   "outputs": [
    {
     "data": {
      "image/png": "[encoded data removed]",
      "text/plain": [
       "<Figure size 720x720 with 1 Axes>"
      ]
     },
     "metadata": {
      "needs_background": "light"
     },
     "output_type": "display_data"
    }
   ],
   "source": [
    "d = DBSCAN(X, labels, 2, 3, dist)\n",
    "d.find_clusters()\n",
    "d.display_clusters()\n",
    "#------------------\n",
    "# d.display_core_points()\n",
    "# d.is_density_reachable('m', 'c')\n",
    "# d.is_density_reachable('u', 'c')\n",
    "# d.is_density_reachable('o', 'i')\n",
    "# d.is_density_reachable('p', 'w')\n",
    "# d.is_density_reachable('x', 'g')\n",
    "# d.is_density_reachable('x', 'b')\n",
    "# d.is_density_reachable('l', 'n')\n",
    "# d.is_density_reachable('m', 'd')\n",
    "# d.is_density_reachable('m', 'q')\n",
    "# d.is_density_connected('l', 'x')\n",
    "# d.is_density_connected('m', 'o')\n",
    "# d.is_density_connected('x', 'v')\n",
    "# d.is_density_connected('l', 'u')\n",
    "# d.is_density_connected('m', 'h')\n",
    "# d.is_density_connected('j', 'q')\n",
    "# d.is_density_connected('q', 'j')"
   ]
  },
  {
   "cell_type": "code",
   "execution_count": 5,
   "id": "4f2f4acd-4f1e-412a-b24a-0133f863f6dd",
   "metadata": {},
   "outputs": [
    {
     "data": {
      "image/png": "[encoded data removed]",
      "text/plain": [
       "<Figure size 432x288 with 1 Axes>"
      ]
     },
     "metadata": {
      "needs_background": "light"
     },
     "output_type": "display_data"
    }
   ],
   "source": [
    "from sklearn.datasets import make_moons\n",
    "\n",
    "\n",
    "X, y = make_moons(n_samples=200, noise=0.05, random_state=0)\n",
    "plt.scatter(X[:, 0], X[:, 1])\n",
    "\n",
    "plt.xlabel('Feature 1')\n",
    "plt.ylabel('Feature 2')\n",
    "\n",
    "plt.tight_layout()\n",
    "plt.show()"
   ]
  },
  {
   "cell_type": "code",
   "execution_count": 6,
   "id": "e632cdc8-aae6-4716-a4f1-84a4c736a10a",
   "metadata": {},
   "outputs": [
    {
     "data": {
      "image/png": "[encoded data removed]",
      "text/plain": [
       "<Figure size 720x720 with 1 Axes>"
      ]
     },
     "metadata": {
      "needs_background": "light"
     },
     "output_type": "display_data"
    }
   ],
   "source": [
    "d = DBSCAN(X, None, 0.2, 5, dist)\n",
    "d.find_clusters()\n",
    "d.display_clusters()"
   ]
  },
  {
   "cell_type": "markdown",
   "id": "613f0a39-d28b-43e8-bcc8-5ccf92d37ef2",
   "metadata": {},
   "source": [
    "# PDF estimation"
   ]
  },
  {
   "cell_type": "markdown",
   "id": "541bd1a8-ea6e-40ff-8f21-5fdb3adca88e",
   "metadata": {},
   "source": [
    "### KNN estimator"
   ]
  },
  {
   "cell_type": "code",
   "execution_count": 47,
   "id": "1ada276e-c94b-4e91-8d43-1e37a6011ace",
   "metadata": {},
   "outputs": [],
   "source": [
    "from sklearn.neighbors import NearestNeighbors\n",
    "\n",
    "# 1D case\n",
    "def PDF_knn_estimator(x, k, D):\n",
    "    neigh = NearestNeighbors(n_neighbors=k)\n",
    "    neigh.fit(D)\n",
    "    dist, points = neigh.kneighbors(np.array([[x]]))\n",
    "    # k / (n * 2 * R) , R - kth NN\n",
    "    return k / (D.shape[0] * 2 * dist.squeeze()[k - 1])\n",
    "              "
   ]
  },
  {
   "cell_type": "code",
   "execution_count": 69,
   "id": "b0bc7b6b-fa49-4764-ada9-0f4ccc785f2b",
   "metadata": {},
   "outputs": [
    {
     "name": "stdout",
     "output_type": "stream",
     "text": [
      "0.14285714285714285\n",
      "0.19047619047619047\n",
      "0.2857142857142857\n",
      "0.2857142857142857\n",
      "0.19047619047619047\n",
      "0.2597402597402604\n",
      "0.13605442176870755\n"
     ]
    }
   ],
   "source": [
    "data = np.array([2, 2.5, 3, 4, 4.5, 5, 6.1]).reshape((-1, 1))\n",
    "for e in data:\n",
    "    print(PDF_knn_estimator(e[0], 4, data))"
   ]
  },
  {
   "cell_type": "code",
   "execution_count": 71,
   "id": "4759b93e-efcf-45a8-9e80-ffc98ca0b006",
   "metadata": {},
   "outputs": [],
   "source": [
    "# find pick density TODO"
   ]
  },
  {
   "cell_type": "markdown",
   "id": "514a1eef-71fa-4831-bdce-a644e68009dd",
   "metadata": {},
   "source": [
    "### kernel based PDF estimator"
   ]
  },
  {
   "cell_type": "code",
   "execution_count": 95,
   "id": "01197514-4b4c-47ab-9f09-1ac9f45c2e8a",
   "metadata": {},
   "outputs": [],
   "source": [
    "def PDF_estimator(x, K, h, D):\n",
    "    # D - 2d numpy array \n",
    "    s = 0\n",
    "    for i in range(D.shape[0]):\n",
    "        s += K((x - D[i, :]) / h)\n",
    "    return s / (D.shape[0] * np.power(h, D.shape[1]))\n",
    "\n",
    "def find_density_attractor(x, K, h, D, eps):\n",
    "    x_t = x\n",
    "    while True:\n",
    "        k_sum = 0\n",
    "        x_i_sum = 0\n",
    "        for i in range(D.shape[0]):\n",
    "            k_sum += K((x_t - D[i, :]) / (h + 0.0))\n",
    "            x_i_sum += D[i, :] * K((x_t - D[i, :]) / (h + 0.0))\n",
    "        x_new_t = x_i_sum / k_sum\n",
    "        if np.linalg.norm(x_new_t - x_t) <= eps:\n",
    "            return x_t\n",
    "        x_t = x_new_t\n",
    "            "
   ]
  },
  {
   "cell_type": "code",
   "execution_count": 96,
   "id": "d9f3c0ad-fe6b-4574-ba06-3ab92b24834d",
   "metadata": {},
   "outputs": [],
   "source": [
    "def K1(x):\n",
    "    if x.max() <= 1:\n",
    "        return 1\n",
    "    return 0\n",
    "\n",
    "def K2(x):\n",
    "    if np.linalg.norm(x, ord=1):\n",
    "        return 1\n",
    "    return 0"
   ]
  },
  {
   "cell_type": "code",
   "execution_count": 97,
   "id": "5ab9ea49-9b77-41bf-92fd-12cd0d5a5528",
   "metadata": {},
   "outputs": [],
   "source": [
    "X = np.array([[5, 8], [6, 7], [6, 5], [7, 5], [2, 4], [3, 4], [5, 4], [7, 4], [9, 4], [3, 3], [8, 2]])\n",
    "labels = np.array(['a', 'b', 'c', 'k', 'd', 'e', 'f', 'g', 'h', 'i', 'j'])"
   ]
  },
  {
   "cell_type": "markdown",
   "id": "19df0f3b-9aa6-456b-8d25-ce370474ad18",
   "metadata": {},
   "source": [
    "#### PDF @ 'e'"
   ]
  },
  {
   "cell_type": "code",
   "execution_count": 98,
   "id": "fc98d1ce-39c2-4a86-bd33-fd2e613f1756",
   "metadata": {},
   "outputs": [
    {
     "name": "stdout",
     "output_type": "stream",
     "text": [
      "11 2\n"
     ]
    },
    {
     "data": {
      "text/plain": [
       "0.25"
      ]
     },
     "execution_count": 98,
     "metadata": {},
     "output_type": "execute_result"
    }
   ],
   "source": [
    "PDF_estimator(X[5], K1, 2, X)"
   ]
  },
  {
   "cell_type": "code",
   "execution_count": 93,
   "id": "bc49137a-0eee-4c75-b2e9-d9850aaa0280",
   "metadata": {},
   "outputs": [
    {
     "data": {
      "text/plain": [
       "0.22727272727272727"
      ]
     },
     "execution_count": 93,
     "metadata": {},
     "output_type": "execute_result"
    }
   ],
   "source": [
    "PDF_estimator(X[5], K2, 2, X)"
   ]
  },
  {
   "cell_type": "markdown",
   "id": "da59f705-d03c-43d5-a267-1dc818f9eb72",
   "metadata": {},
   "source": [
    "#### atractor for the 'e'"
   ]
  },
  {
   "cell_type": "code",
   "execution_count": 94,
   "id": "47a2831f-2fea-4c73-87bf-cb4770855ae0",
   "metadata": {},
   "outputs": [
    {
     "data": {
      "text/plain": [
       "array([6.42857143, 5.28571429])"
      ]
     },
     "execution_count": 94,
     "metadata": {},
     "output_type": "execute_result"
    }
   ],
   "source": [
    "find_density_attractor(X[5], K1, 2, X, 0.001)"
   ]
  },
  {
   "cell_type": "markdown",
   "id": "84427382-9b2b-4cec-8859-3a775625f2cd",
   "metadata": {},
   "source": [
    "# DENCLUE"
   ]
  },
  {
   "cell_type": "code",
   "execution_count": 238,
   "id": "b1e24ad5-29bf-4498-8f87-93d521bc73f0",
   "metadata": {},
   "outputs": [
    {
     "name": "stdout",
     "output_type": "stream",
     "text": [
      "(200, 2)\n"
     ]
    },
    {
     "data": {
      "image/png": "[encoded data removed]",
      "text/plain": [
       "<Figure size 432x288 with 1 Axes>"
      ]
     },
     "metadata": {
      "needs_background": "light"
     },
     "output_type": "display_data"
    }
   ],
   "source": [
    "import numpy as np\n",
    "from collections import defaultdict\n",
    "from scipy.spatial.distance import pdist, squareform\n",
    "\n",
    "X = np.array([[5, 8], [10, 8], [11, 8], \n",
    "              [6, 7], [10, 7], [12, 7], [13, 7],\n",
    "              [5, 6], [10, 6], [13, 6], [14, 6], \n",
    "              [6, 5], [11, 5], [15, 5], \n",
    "              [2, 4], [3, 4], [5, 4], [6, 4], [7, 4], [9, 4], [15, 4], \n",
    "              [3, 3], [7, 3], \n",
    "              [8, 2]])\n",
    "\n",
    "labels = np.array(['a', 'b', 'c', 'd', 'e', 'f', 'g', 'h', 'i', 'j', 'n', 'k', 'm', 'o', 'p', 'q', 'r', 's', 't', 'l', 'u', 'v', 'w', 'x'])\n",
    "\n",
    "from sklearn.datasets import make_moons\n",
    "\n",
    "\n",
    "X, y = make_moons(n_samples=200, noise=0.05, random_state=0)\n",
    "print(X.shape)\n",
    "plt.scatter(X[:, 0], X[:, 1])\n",
    "plt.show()"
   ]
  },
  {
   "cell_type": "code",
   "execution_count": 263,
   "id": "96286886-4f85-44bd-ba9a-e6da5e9997e1",
   "metadata": {},
   "outputs": [],
   "source": [
    "def gaussian(a):\n",
    "    return (1 / np.power(6.28, X.shape[0] / 2.0)) * np.exp(-0.5 * np.dot(a.transpose(), a))\n",
    "\n",
    "class DENCLUE:\n",
    "    def __init__(self, X, labels, eps, h, kernel, eps_dist):\n",
    "        self.X = X\n",
    "        self.labels = labels\n",
    "        self.eps = eps\n",
    "        self.h = h\n",
    "        self.kernel = kernel\n",
    "        self.eps_dist = eps_dist\n",
    "        self.attractors = np.empty((X.shape[0], X.shape[1]))\n",
    "\n",
    "    def __find_attractors(self):\n",
    "        for i, _ in enumerate(self.X):\n",
    "            self.__find_attractor(i)\n",
    "            \n",
    "    def __find_attractor(self, index):\n",
    "        x_t = self.X[index]\n",
    "        t = 0\n",
    "        while True:\n",
    "            k_sum = 0\n",
    "            x_i_sum = 0\n",
    "            for i in range(self.X.shape[0]):\n",
    "                k_sum += self.kernel((x_t - self.X[i, :]) / (self.h + 0.0))\n",
    "                x_i_sum += self.X[i, :] * self.kernel((x_t - self.X[i, :]) / (self.h + 0.0))\n",
    "            x_new_t = x_i_sum / k_sum\n",
    "            if np.linalg.norm(x_new_t - x_t) <= 0.0001:\n",
    "                if self.__estimate_PDF(x_new_t) >= self.eps:\n",
    "                    self.attractors[index] = x_new_t\n",
    "                return\n",
    "            x_t = x_new_t\n",
    "            t += 1\n",
    "            \n",
    "    def __estimate_PDF(self, x):\n",
    "        s = 0\n",
    "        for i in range(self.X.shape[0]):\n",
    "            s += self.kernel((x - self.X[i, :]) / self.h)\n",
    "        return s / (self.X.shape[0] * np.power(self.h, self.X.shape[1]))\n",
    "    \n",
    "    def display(self):\n",
    "        self.__find_attractors()\n",
    "        y_0 = []\n",
    "        y_1 = []\n",
    "        for i, e in enumerate(self.attractors):\n",
    "            if self.__estimate_PDF(e) >= 0.8 * 1e-78:\n",
    "                y_0.append(self.attractors[i][0])\n",
    "                y_1.append(self.attractors[i][1])\n",
    "        plt.scatter(self.X[:, 0], self.X[:, 1])\n",
    "        plt.scatter(y_0, y_1, c='#17becf', marker='X', s=210)\n",
    "        plt.show()\n",
    "        \n",
    "# TODO merge points with close attractors"
   ]
  },
  {
   "cell_type": "code",
   "execution_count": 264,
   "id": "3a983633-820f-49d2-85d7-ffe74b93d404",
   "metadata": {},
   "outputs": [
    {
     "data": {
      "image/png": "[encoded data removed]",
      "text/plain": [
       "<Figure size 432x288 with 1 Axes>"
      ]
     },
     "metadata": {
      "needs_background": "light"
     },
     "output_type": "display_data"
    }
   ],
   "source": [
    "d = DENCLUE(X, None, 0.8 * 1e-78, 0.01, gaussian, 2.09)\n",
    "d.display()"
   ]
  }
 ],
 "metadata": {
  "kernelspec": {
   "display_name": "Python 3 (ipykernel)",
   "language": "python",
   "name": "python3"
  },
  "language_info": {
   "codemirror_mode": {
    "name": "ipython",
    "version": 3
   },
   "file_extension": ".py",
   "mimetype": "text/x-python",
   "name": "python",
   "nbconvert_exporter": "python",
   "pygments_lexer": "ipython3",
   "version": "3.9.12"
  }
 },
 "nbformat": 4,
 "nbformat_minor": 5
}
