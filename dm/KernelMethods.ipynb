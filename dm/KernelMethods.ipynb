{
 "cells": [
  {
   "cell_type": "code",
   "execution_count": 8,
   "id": "b8247fd8-9804-4f50-a918-31463630743b",
   "metadata": {},
   "outputs": [
    {
     "data": {
      "text/html": [
       "<div>\n",
       "<style scoped>\n",
       "    .dataframe tbody tr th:only-of-type {\n",
       "        vertical-align: middle;\n",
       "    }\n",
       "\n",
       "    .dataframe tbody tr th {\n",
       "        vertical-align: top;\n",
       "    }\n",
       "\n",
       "    .dataframe thead th {\n",
       "        text-align: right;\n",
       "    }\n",
       "</style>\n",
       "<table border=\"1\" class=\"dataframe\">\n",
       "  <thead>\n",
       "    <tr style=\"text-align: right;\">\n",
       "      <th></th>\n",
       "      <th>sepal-length</th>\n",
       "      <th>sepal-width</th>\n",
       "      <th>petal-length</th>\n",
       "      <th>petal-width</th>\n",
       "    </tr>\n",
       "  </thead>\n",
       "  <tbody>\n",
       "    <tr>\n",
       "      <th>0</th>\n",
       "      <td>5.1</td>\n",
       "      <td>3.5</td>\n",
       "      <td>1.4</td>\n",
       "      <td>0.2</td>\n",
       "    </tr>\n",
       "    <tr>\n",
       "      <th>1</th>\n",
       "      <td>4.9</td>\n",
       "      <td>3.0</td>\n",
       "      <td>1.4</td>\n",
       "      <td>0.2</td>\n",
       "    </tr>\n",
       "    <tr>\n",
       "      <th>2</th>\n",
       "      <td>4.7</td>\n",
       "      <td>3.2</td>\n",
       "      <td>1.3</td>\n",
       "      <td>0.2</td>\n",
       "    </tr>\n",
       "    <tr>\n",
       "      <th>3</th>\n",
       "      <td>4.6</td>\n",
       "      <td>3.1</td>\n",
       "      <td>1.5</td>\n",
       "      <td>0.2</td>\n",
       "    </tr>\n",
       "    <tr>\n",
       "      <th>4</th>\n",
       "      <td>5.0</td>\n",
       "      <td>3.6</td>\n",
       "      <td>1.4</td>\n",
       "      <td>0.2</td>\n",
       "    </tr>\n",
       "  </tbody>\n",
       "</table>\n",
       "</div>"
      ],
      "text/plain": [
       "   sepal-length  sepal-width  petal-length  petal-width\n",
       "0           5.1          3.5           1.4          0.2\n",
       "1           4.9          3.0           1.4          0.2\n",
       "2           4.7          3.2           1.3          0.2\n",
       "3           4.6          3.1           1.5          0.2\n",
       "4           5.0          3.6           1.4          0.2"
      ]
     },
     "execution_count": 8,
     "metadata": {},
     "output_type": "execute_result"
    }
   ],
   "source": [
    "import pandas as pd\n",
    "import numpy as np\n",
    "df = pd.read_csv('iris.data',\n",
    "                      header=None)\n",
    "\n",
    "df.columns = ['sepal-length', 'sepal-width', 'petal-length', 'petal-width','class']\n",
    "\n",
    "df = df.drop(columns=['class'])\n",
    "\n",
    "df.head()"
   ]
  },
  {
   "cell_type": "code",
   "execution_count": 9,
   "id": "2c20121d-1db7-472b-a8cc-5fd71683823d",
   "metadata": {},
   "outputs": [
    {
     "name": "stdout",
     "output_type": "stream",
     "text": [
      "[24.01      9.        1.96      0.04     20.78874   9.701412  1.385916\n",
      "  5.93964   0.84852   0.395976]\n"
     ]
    },
    {
     "data": {
      "text/html": [
       "<div>\n",
       "<style scoped>\n",
       "    .dataframe tbody tr th:only-of-type {\n",
       "        vertical-align: middle;\n",
       "    }\n",
       "\n",
       "    .dataframe tbody tr th {\n",
       "        vertical-align: top;\n",
       "    }\n",
       "\n",
       "    .dataframe thead th {\n",
       "        text-align: right;\n",
       "    }\n",
       "</style>\n",
       "<table border=\"1\" class=\"dataframe\">\n",
       "  <thead>\n",
       "    <tr style=\"text-align: right;\">\n",
       "      <th></th>\n",
       "      <th>sl2</th>\n",
       "      <th>sw2</th>\n",
       "      <th>pl2</th>\n",
       "      <th>pw2</th>\n",
       "      <th>sl_sw</th>\n",
       "      <th>sl_pl</th>\n",
       "      <th>sl_pw</th>\n",
       "      <th>sw_pl</th>\n",
       "      <th>sw_pw</th>\n",
       "      <th>pl_pw</th>\n",
       "    </tr>\n",
       "  </thead>\n",
       "  <tbody>\n",
       "    <tr>\n",
       "      <th>0</th>\n",
       "      <td>26.01</td>\n",
       "      <td>12.25</td>\n",
       "      <td>1.96</td>\n",
       "      <td>0.04</td>\n",
       "      <td>25.243470</td>\n",
       "      <td>10.097388</td>\n",
       "      <td>1.442484</td>\n",
       "      <td>6.929580</td>\n",
       "      <td>0.989940</td>\n",
       "      <td>0.395976</td>\n",
       "    </tr>\n",
       "    <tr>\n",
       "      <th>1</th>\n",
       "      <td>24.01</td>\n",
       "      <td>9.00</td>\n",
       "      <td>1.96</td>\n",
       "      <td>0.04</td>\n",
       "      <td>20.788740</td>\n",
       "      <td>9.701412</td>\n",
       "      <td>1.385916</td>\n",
       "      <td>5.939640</td>\n",
       "      <td>0.848520</td>\n",
       "      <td>0.395976</td>\n",
       "    </tr>\n",
       "    <tr>\n",
       "      <th>2</th>\n",
       "      <td>22.09</td>\n",
       "      <td>10.24</td>\n",
       "      <td>1.69</td>\n",
       "      <td>0.04</td>\n",
       "      <td>21.269568</td>\n",
       "      <td>8.640762</td>\n",
       "      <td>1.329348</td>\n",
       "      <td>5.883072</td>\n",
       "      <td>0.905088</td>\n",
       "      <td>0.367692</td>\n",
       "    </tr>\n",
       "    <tr>\n",
       "      <th>3</th>\n",
       "      <td>21.16</td>\n",
       "      <td>9.61</td>\n",
       "      <td>2.25</td>\n",
       "      <td>0.04</td>\n",
       "      <td>20.166492</td>\n",
       "      <td>9.757980</td>\n",
       "      <td>1.301064</td>\n",
       "      <td>6.576030</td>\n",
       "      <td>0.876804</td>\n",
       "      <td>0.424260</td>\n",
       "    </tr>\n",
       "    <tr>\n",
       "      <th>4</th>\n",
       "      <td>25.00</td>\n",
       "      <td>12.96</td>\n",
       "      <td>1.96</td>\n",
       "      <td>0.04</td>\n",
       "      <td>25.455600</td>\n",
       "      <td>9.899400</td>\n",
       "      <td>1.414200</td>\n",
       "      <td>7.127568</td>\n",
       "      <td>1.018224</td>\n",
       "      <td>0.395976</td>\n",
       "    </tr>\n",
       "    <tr>\n",
       "      <th>...</th>\n",
       "      <td>...</td>\n",
       "      <td>...</td>\n",
       "      <td>...</td>\n",
       "      <td>...</td>\n",
       "      <td>...</td>\n",
       "      <td>...</td>\n",
       "      <td>...</td>\n",
       "      <td>...</td>\n",
       "      <td>...</td>\n",
       "      <td>...</td>\n",
       "    </tr>\n",
       "    <tr>\n",
       "      <th>145</th>\n",
       "      <td>44.89</td>\n",
       "      <td>9.00</td>\n",
       "      <td>27.04</td>\n",
       "      <td>5.29</td>\n",
       "      <td>28.425420</td>\n",
       "      <td>49.270728</td>\n",
       "      <td>21.792822</td>\n",
       "      <td>22.061520</td>\n",
       "      <td>9.757980</td>\n",
       "      <td>16.913832</td>\n",
       "    </tr>\n",
       "    <tr>\n",
       "      <th>146</th>\n",
       "      <td>39.69</td>\n",
       "      <td>6.25</td>\n",
       "      <td>25.00</td>\n",
       "      <td>3.61</td>\n",
       "      <td>22.273650</td>\n",
       "      <td>44.547300</td>\n",
       "      <td>16.927974</td>\n",
       "      <td>17.677500</td>\n",
       "      <td>6.717450</td>\n",
       "      <td>13.434900</td>\n",
       "    </tr>\n",
       "    <tr>\n",
       "      <th>147</th>\n",
       "      <td>42.25</td>\n",
       "      <td>9.00</td>\n",
       "      <td>27.04</td>\n",
       "      <td>4.00</td>\n",
       "      <td>27.576900</td>\n",
       "      <td>47.799960</td>\n",
       "      <td>18.384600</td>\n",
       "      <td>22.061520</td>\n",
       "      <td>8.485200</td>\n",
       "      <td>14.707680</td>\n",
       "    </tr>\n",
       "    <tr>\n",
       "      <th>148</th>\n",
       "      <td>38.44</td>\n",
       "      <td>11.56</td>\n",
       "      <td>29.16</td>\n",
       "      <td>5.29</td>\n",
       "      <td>29.811336</td>\n",
       "      <td>47.347416</td>\n",
       "      <td>20.166492</td>\n",
       "      <td>25.964712</td>\n",
       "      <td>11.059044</td>\n",
       "      <td>17.564364</td>\n",
       "    </tr>\n",
       "    <tr>\n",
       "      <th>149</th>\n",
       "      <td>34.81</td>\n",
       "      <td>9.00</td>\n",
       "      <td>26.01</td>\n",
       "      <td>3.24</td>\n",
       "      <td>25.031340</td>\n",
       "      <td>42.553278</td>\n",
       "      <td>15.018804</td>\n",
       "      <td>21.637260</td>\n",
       "      <td>7.636680</td>\n",
       "      <td>12.982356</td>\n",
       "    </tr>\n",
       "  </tbody>\n",
       "</table>\n",
       "<p>150 rows × 10 columns</p>\n",
       "</div>"
      ],
      "text/plain": [
       "       sl2    sw2    pl2   pw2      sl_sw      sl_pl      sl_pw      sw_pl  \\\n",
       "0    26.01  12.25   1.96  0.04  25.243470  10.097388   1.442484   6.929580   \n",
       "1    24.01   9.00   1.96  0.04  20.788740   9.701412   1.385916   5.939640   \n",
       "2    22.09  10.24   1.69  0.04  21.269568   8.640762   1.329348   5.883072   \n",
       "3    21.16   9.61   2.25  0.04  20.166492   9.757980   1.301064   6.576030   \n",
       "4    25.00  12.96   1.96  0.04  25.455600   9.899400   1.414200   7.127568   \n",
       "..     ...    ...    ...   ...        ...        ...        ...        ...   \n",
       "145  44.89   9.00  27.04  5.29  28.425420  49.270728  21.792822  22.061520   \n",
       "146  39.69   6.25  25.00  3.61  22.273650  44.547300  16.927974  17.677500   \n",
       "147  42.25   9.00  27.04  4.00  27.576900  47.799960  18.384600  22.061520   \n",
       "148  38.44  11.56  29.16  5.29  29.811336  47.347416  20.166492  25.964712   \n",
       "149  34.81   9.00  26.01  3.24  25.031340  42.553278  15.018804  21.637260   \n",
       "\n",
       "         sw_pw      pl_pw  \n",
       "0     0.989940   0.395976  \n",
       "1     0.848520   0.395976  \n",
       "2     0.905088   0.367692  \n",
       "3     0.876804   0.424260  \n",
       "4     1.018224   0.395976  \n",
       "..         ...        ...  \n",
       "145   9.757980  16.913832  \n",
       "146   6.717450  13.434900  \n",
       "147   8.485200  14.707680  \n",
       "148  11.059044  17.564364  \n",
       "149   7.636680  12.982356  \n",
       "\n",
       "[150 rows x 10 columns]"
      ]
     },
     "execution_count": 9,
     "metadata": {},
     "output_type": "execute_result"
    }
   ],
   "source": [
    "df_quad = df.copy()\n",
    "#df_quad = df_quad.drop(columns=['class'])\n",
    "df_quad.rename(columns={'sepal-length':'sl2', 'sepal-width':'sw2', 'petal-length':'pl2', 'petal-width':'pw2'}, inplace=True)\n",
    "df_quad['sl2'] = df_quad['sl2'] * df_quad['sl2']\n",
    "df_quad['sw2'] = df_quad['sw2'] * df_quad['sw2']\n",
    "df_quad['pl2'] = df_quad['pl2'] * df_quad['pl2']\n",
    "df_quad['pw2'] = df_quad['pw2'] * df_quad['pw2']\n",
    "df_quad['sl_sw'] = 1.4142 * df['sepal-length'] * df['sepal-width']\n",
    "df_quad['sl_pl'] = 1.4142 * df['sepal-length'] * df['petal-length']\n",
    "df_quad['sl_pw'] = 1.4142 * df['sepal-length'] * df['petal-width']\n",
    "df_quad['sw_pl'] = 1.4142 * df['sepal-width'] * df['petal-length']\n",
    "df_quad['sw_pw'] = 1.4142 * df['sepal-width'] * df['petal-width']\n",
    "df_quad['pl_pw'] = 1.4142 * df['petal-length'] * df['petal-width']\n",
    "print(df_quad.iloc[1].to_numpy())\n",
    "df_quad\n"
   ]
  },
  {
   "cell_type": "code",
   "execution_count": 10,
   "id": "e5d36dbe-06c4-425d-a391-d8feb1ab3f14",
   "metadata": {},
   "outputs": [
    {
     "data": {
      "text/html": [
       "<div>\n",
       "<style scoped>\n",
       "    .dataframe tbody tr th:only-of-type {\n",
       "        vertical-align: middle;\n",
       "    }\n",
       "\n",
       "    .dataframe tbody tr th {\n",
       "        vertical-align: top;\n",
       "    }\n",
       "\n",
       "    .dataframe thead th {\n",
       "        text-align: right;\n",
       "    }\n",
       "</style>\n",
       "<table border=\"1\" class=\"dataframe\">\n",
       "  <thead>\n",
       "    <tr style=\"text-align: right;\">\n",
       "      <th></th>\n",
       "      <th>sl2</th>\n",
       "      <th>sw2</th>\n",
       "      <th>pl2</th>\n",
       "      <th>pw2</th>\n",
       "      <th>sl_sw</th>\n",
       "      <th>sl_pl</th>\n",
       "      <th>sl_pw</th>\n",
       "      <th>sw_pl</th>\n",
       "      <th>sw_pw</th>\n",
       "      <th>pl_pw</th>\n",
       "    </tr>\n",
       "  </thead>\n",
       "  <tbody>\n",
       "    <tr>\n",
       "      <th>0</th>\n",
       "      <td>-0.268328</td>\n",
       "      <td>0.083287</td>\n",
       "      <td>-0.464478</td>\n",
       "      <td>-0.060124</td>\n",
       "      <td>0.001871</td>\n",
       "      <td>-0.692520</td>\n",
       "      <td>-0.279691</td>\n",
       "      <td>-0.269435</td>\n",
       "      <td>-0.122400</td>\n",
       "      <td>-0.237312</td>\n",
       "    </tr>\n",
       "    <tr>\n",
       "      <th>1</th>\n",
       "      <td>-0.316252</td>\n",
       "      <td>-0.015020</td>\n",
       "      <td>-0.446205</td>\n",
       "      <td>-0.057759</td>\n",
       "      <td>-0.128460</td>\n",
       "      <td>-0.676854</td>\n",
       "      <td>-0.270342</td>\n",
       "      <td>-0.287781</td>\n",
       "      <td>-0.121719</td>\n",
       "      <td>-0.227976</td>\n",
       "    </tr>\n",
       "    <tr>\n",
       "      <th>2</th>\n",
       "      <td>-0.357121</td>\n",
       "      <td>0.020367</td>\n",
       "      <td>-0.435477</td>\n",
       "      <td>-0.055390</td>\n",
       "      <td>-0.109709</td>\n",
       "      <td>-0.678838</td>\n",
       "      <td>-0.260842</td>\n",
       "      <td>-0.277566</td>\n",
       "      <td>-0.115141</td>\n",
       "      <td>-0.219420</td>\n",
       "    </tr>\n",
       "    <tr>\n",
       "      <th>3</th>\n",
       "      <td>-0.390866</td>\n",
       "      <td>0.002755</td>\n",
       "      <td>-0.428173</td>\n",
       "      <td>-0.056499</td>\n",
       "      <td>-0.143454</td>\n",
       "      <td>-0.660465</td>\n",
       "      <td>-0.266869</td>\n",
       "      <td>-0.263299</td>\n",
       "      <td>-0.118254</td>\n",
       "      <td>-0.222192</td>\n",
       "    </tr>\n",
       "    <tr>\n",
       "      <th>4</th>\n",
       "      <td>-0.295109</td>\n",
       "      <td>0.103509</td>\n",
       "      <td>-0.458327</td>\n",
       "      <td>-0.059328</td>\n",
       "      <td>0.008217</td>\n",
       "      <td>-0.689296</td>\n",
       "      <td>-0.276837</td>\n",
       "      <td>-0.259921</td>\n",
       "      <td>-0.119929</td>\n",
       "      <td>-0.234170</td>\n",
       "    </tr>\n",
       "    <tr>\n",
       "      <th>...</th>\n",
       "      <td>...</td>\n",
       "      <td>...</td>\n",
       "      <td>...</td>\n",
       "      <td>...</td>\n",
       "      <td>...</td>\n",
       "      <td>...</td>\n",
       "      <td>...</td>\n",
       "      <td>...</td>\n",
       "      <td>...</td>\n",
       "      <td>...</td>\n",
       "    </tr>\n",
       "    <tr>\n",
       "      <th>145</th>\n",
       "      <td>0.367133</td>\n",
       "      <td>-0.018738</td>\n",
       "      <td>0.358220</td>\n",
       "      <td>0.119455</td>\n",
       "      <td>0.118316</td>\n",
       "      <td>0.599024</td>\n",
       "      <td>0.407150</td>\n",
       "      <td>0.229082</td>\n",
       "      <td>0.173154</td>\n",
       "      <td>0.318137</td>\n",
       "    </tr>\n",
       "    <tr>\n",
       "      <th>146</th>\n",
       "      <td>0.273504</td>\n",
       "      <td>-0.183504</td>\n",
       "      <td>0.437442</td>\n",
       "      <td>0.089662</td>\n",
       "      <td>-0.163526</td>\n",
       "      <td>0.657726</td>\n",
       "      <td>0.354029</td>\n",
       "      <td>0.106598</td>\n",
       "      <td>0.095933</td>\n",
       "      <td>0.294753</td>\n",
       "    </tr>\n",
       "    <tr>\n",
       "      <th>147</th>\n",
       "      <td>0.319768</td>\n",
       "      <td>-0.022124</td>\n",
       "      <td>0.422950</td>\n",
       "      <td>0.085480</td>\n",
       "      <td>0.103149</td>\n",
       "      <td>0.643920</td>\n",
       "      <td>0.333929</td>\n",
       "      <td>0.270477</td>\n",
       "      <td>0.149623</td>\n",
       "      <td>0.280604</td>\n",
       "    </tr>\n",
       "    <tr>\n",
       "      <th>148</th>\n",
       "      <td>0.134589</td>\n",
       "      <td>0.076200</td>\n",
       "      <td>0.444615</td>\n",
       "      <td>0.121940</td>\n",
       "      <td>0.172385</td>\n",
       "      <td>0.539865</td>\n",
       "      <td>0.355059</td>\n",
       "      <td>0.379192</td>\n",
       "      <td>0.225204</td>\n",
       "      <td>0.348979</td>\n",
       "    </tr>\n",
       "    <tr>\n",
       "      <th>149</th>\n",
       "      <td>-0.000978</td>\n",
       "      <td>-0.032068</td>\n",
       "      <td>0.548748</td>\n",
       "      <td>0.076454</td>\n",
       "      <td>-0.009405</td>\n",
       "      <td>0.605794</td>\n",
       "      <td>0.273895</td>\n",
       "      <td>0.365560</td>\n",
       "      <td>0.163901</td>\n",
       "      <td>0.299015</td>\n",
       "    </tr>\n",
       "  </tbody>\n",
       "</table>\n",
       "<p>150 rows × 10 columns</p>\n",
       "</div>"
      ],
      "text/plain": [
       "          sl2       sw2       pl2       pw2     sl_sw     sl_pl     sl_pw  \\\n",
       "0   -0.268328  0.083287 -0.464478 -0.060124  0.001871 -0.692520 -0.279691   \n",
       "1   -0.316252 -0.015020 -0.446205 -0.057759 -0.128460 -0.676854 -0.270342   \n",
       "2   -0.357121  0.020367 -0.435477 -0.055390 -0.109709 -0.678838 -0.260842   \n",
       "3   -0.390866  0.002755 -0.428173 -0.056499 -0.143454 -0.660465 -0.266869   \n",
       "4   -0.295109  0.103509 -0.458327 -0.059328  0.008217 -0.689296 -0.276837   \n",
       "..        ...       ...       ...       ...       ...       ...       ...   \n",
       "145  0.367133 -0.018738  0.358220  0.119455  0.118316  0.599024  0.407150   \n",
       "146  0.273504 -0.183504  0.437442  0.089662 -0.163526  0.657726  0.354029   \n",
       "147  0.319768 -0.022124  0.422950  0.085480  0.103149  0.643920  0.333929   \n",
       "148  0.134589  0.076200  0.444615  0.121940  0.172385  0.539865  0.355059   \n",
       "149 -0.000978 -0.032068  0.548748  0.076454 -0.009405  0.605794  0.273895   \n",
       "\n",
       "        sw_pl     sw_pw     pl_pw  \n",
       "0   -0.269435 -0.122400 -0.237312  \n",
       "1   -0.287781 -0.121719 -0.227976  \n",
       "2   -0.277566 -0.115141 -0.219420  \n",
       "3   -0.263299 -0.118254 -0.222192  \n",
       "4   -0.259921 -0.119929 -0.234170  \n",
       "..        ...       ...       ...  \n",
       "145  0.229082  0.173154  0.318137  \n",
       "146  0.106598  0.095933  0.294753  \n",
       "147  0.270477  0.149623  0.280604  \n",
       "148  0.379192  0.225204  0.348979  \n",
       "149  0.365560  0.163901  0.299015  \n",
       "\n",
       "[150 rows x 10 columns]"
      ]
     },
     "execution_count": 10,
     "metadata": {},
     "output_type": "execute_result"
    }
   ],
   "source": [
    "# normalize df_quad\n",
    "for col in df_quad.columns:\n",
    "    \n",
    "    #df_quad[col] /= np.sqrt(np.square(df_quad[col]).sum(axis=0))\n",
    "    df_quad[col] -= df_quad[col].mean()\n",
    "\n",
    "for i in range(150):\n",
    "    df_quad.iloc[i] /= np.sqrt(np.square(df_quad.iloc[i]).sum())\n",
    "df_quad"
   ]
  },
  {
   "cell_type": "code",
   "execution_count": 11,
   "id": "7f50e6a4-5943-4959-b8c6-b5de4a260ea4",
   "metadata": {},
   "outputs": [
    {
     "name": "stdout",
     "output_type": "stream",
     "text": [
      "[[ 1.          0.98497819  0.98693094 ... -0.98614805 -0.92901399\n",
      "  -0.94755061]\n",
      " [ 0.98497819  1.          0.99814507 ... -0.99384119 -0.94877726\n",
      "  -0.92466948]\n",
      " [ 0.98693094  0.99814507  1.         ... -0.99297625 -0.93264776\n",
      "  -0.91110198]\n",
      " ...\n",
      " [-0.98614805 -0.99384119 -0.99297625 ...  1.          0.95798408\n",
      "   0.92690326]\n",
      " [-0.92901399 -0.94877726 -0.93264776 ...  0.95798408  1.\n",
      "   0.95328247]\n",
      " [-0.94755061 -0.92466948 -0.91110198 ...  0.92690326  0.95328247\n",
      "   1.        ]]\n"
     ]
    }
   ],
   "source": [
    "import numpy as np\n",
    "dot_products_quad = np.ones((150, 150))\n",
    "for i in range(150):\n",
    "    for j in range(150):\n",
    "        dot_products_quad[i, j] = np.dot(df_quad.iloc[i], df_quad.iloc[j])\n",
    "        \n",
    "print(dot_products_quad)"
   ]
  },
  {
   "cell_type": "code",
   "execution_count": 12,
   "id": "0076b6ea-5599-4e82-b55b-9c31d08c3179",
   "metadata": {},
   "outputs": [],
   "source": [
    "# compute kernel (x^Ty)^2\n",
    "K = np.ones((150, 150))\n",
    "for i in range(150):\n",
    "    for j in range(150):\n",
    "        K[i, j] = np.dot(df.iloc[i], df.iloc[j]) * np.dot(df.iloc[i], df.iloc[j])"
   ]
  },
  {
   "cell_type": "code",
   "execution_count": 13,
   "id": "853f7b4e-9892-4453-9b6c-e8fcf7f08675",
   "metadata": {},
   "outputs": [
    {
     "data": {
      "text/plain": [
       "array([[1079.40592114, 1106.7314778 , 1156.34647647, ..., -752.24572753,\n",
       "        -819.6680442 , -498.6703422 ],\n",
       "       [1106.7314778 , 1169.62453447, 1217.37873314, ..., -789.16067086,\n",
       "        -871.38658753, -506.55728553],\n",
       "       [1156.34647647, 1217.37873314, 1271.7964318 , ..., -822.1912722 ,\n",
       "        -893.20238886, -520.46878686],\n",
       "       ...,\n",
       "       [-752.24572753, -789.16067086, -822.1912722 , ...,  539.0765238 ,\n",
       "         597.31980714,  344.72950914],\n",
       "       [-819.6680442 , -871.38658753, -893.20238886, ...,  597.31980714,\n",
       "         721.18489047,  410.07519247],\n",
       "       [-498.6703422 , -506.55728553, -520.46878686, ...,  344.72950914,\n",
       "         410.07519247,  256.58839447]])"
      ]
     },
     "execution_count": 13,
     "metadata": {},
     "output_type": "execute_result"
    }
   ],
   "source": [
    "# compute centered Kernel\n",
    "\n",
    "H = np.identity(150) - 1/150 * np.ones((150, 150))\n",
    "# center Kernel\n",
    "K_hat = np.matmul(np.matmul(H, K), H)\n",
    "K_hat"
   ]
  },
  {
   "cell_type": "code",
   "execution_count": 14,
   "id": "b78f94c3-e4de-47ac-9502-58a64851994a",
   "metadata": {},
   "outputs": [
    {
     "data": {
      "text/plain": [
       "array([[ 1.        ,  0.98497822,  0.98693098, ..., -0.98614805,\n",
       "        -0.92901408, -0.94755109],\n",
       "       [ 0.98497822,  1.        ,  0.99814509, ..., -0.99384118,\n",
       "        -0.94877739, -0.92467013],\n",
       "       [ 0.98693098,  0.99814509,  1.        , ..., -0.99297623,\n",
       "        -0.932648  , -0.91110281],\n",
       "       ...,\n",
       "       [-0.98614805, -0.99384118, -0.99297623, ...,  1.        ,\n",
       "         0.95798431,  0.92690398],\n",
       "       [-0.92901408, -0.94877739, -0.932648  , ...,  0.95798431,\n",
       "         1.        ,  0.95328264],\n",
       "       [-0.94755109, -0.92467013, -0.91110281, ...,  0.92690398,\n",
       "         0.95328264,  1.        ]])"
      ]
     },
     "execution_count": 14,
     "metadata": {},
     "output_type": "execute_result"
    }
   ],
   "source": [
    "W = np.identity(150)\n",
    "for i in range(150):\n",
    "    W[i, i] = 1.0 / np.sqrt(K_hat[i, i])\n",
    "\n",
    "K_hat_n = np.matmul(np.matmul(W, K_hat), W)\n",
    "K_hat_n"
   ]
  },
  {
   "cell_type": "code",
   "execution_count": 15,
   "id": "8ac3e5ea-918d-4833-9e51-b18122c2ac9a",
   "metadata": {},
   "outputs": [
    {
     "name": "stdout",
     "output_type": "stream",
     "text": [
      "2\n"
     ]
    }
   ],
   "source": [
    "e_values, e_vectors = np.linalg.eig(K_hat_n)\n",
    "#print(f'eigenvalues \\n {e_values}')\n",
    "#print(f'eigenvectors \\n {e_vectors}')\n",
    "sum = 0\n",
    "n = 0\n",
    "i = 0\n",
    "while sum < 0.9 * e_values.sum():\n",
    "    sum += e_values[i]\n",
    "    n += 1\n",
    "    i += 1\n",
    "    \n",
    "print(n)"
   ]
  },
  {
   "cell_type": "code",
   "execution_count": 16,
   "id": "d7959cde-eb0d-400c-8cea-7f176d514f14",
   "metadata": {},
   "outputs": [
    {
     "data": {
      "text/plain": [
       "(150, 2)"
      ]
     },
     "execution_count": 16,
     "metadata": {},
     "output_type": "execute_result"
    }
   ],
   "source": [
    "C_r = np.stack([e_vectors[0], e_vectors[1]], axis=1)\n",
    "C_r.shape"
   ]
  },
  {
   "cell_type": "code",
   "execution_count": 17,
   "id": "aa961c74-3c62-420c-8857-a62ecf09c268",
   "metadata": {},
   "outputs": [
    {
     "name": "stdout",
     "output_type": "stream",
     "text": [
      "(2, 150)\n"
     ]
    },
    {
     "name": "stderr",
     "output_type": "stream",
     "text": [
      "/Users/edvard/.local/share/virtualenvs/pyml-ZGva7g9H/lib/python3.9/site-packages/matplotlib/collections.py:196: ComplexWarning: Casting complex values to real discards the imaginary part\n",
      "  offsets = np.asanyarray(offsets, float)\n"
     ]
    },
    {
     "data": {
      "image/png": "[encoded data removed]",
      "text/plain": [
       "<Figure size 432x288 with 1 Axes>"
      ]
     },
     "metadata": {
      "needs_background": "light"
     },
     "output_type": "display_data"
    }
   ],
   "source": [
    "new_data = np.matmul(C_r.transpose(), K_hat_n)\n",
    "print(new_data.shape)\n",
    "import matplotlib.pyplot as plt\n",
    "plt.scatter(new_data[0, :], new_data[1, :], color='red', marker='o', label='Point')\n",
    "plt.show()\n"
   ]
  },
  {
   "cell_type": "code",
   "execution_count": 18,
   "id": "1ef6f241-2634-4dd2-9452-25bc106579bb",
   "metadata": {},
   "outputs": [],
   "source": [
    "#sklearn version\n",
    "e_vals, e_vectors = np.linalg.eig(K_hat_n)\n",
    "\n",
    "e_vals_real = np.array([i.real for i in e_vals], dtype=float)\n",
    "tot = e_vals_real.sum()\n",
    "var_exp = [(i / tot) for i in sorted(e_vals_real, reverse=True)]\n",
    "cum_var_exp = np.cumsum(var_exp)"
   ]
  },
  {
   "cell_type": "code",
   "execution_count": 19,
   "id": "0a1c6479-c8be-4cc6-a955-2309c5e2da6b",
   "metadata": {},
   "outputs": [
    {
     "data": {
      "image/png": "[encoded data removed]",
      "text/plain": [
       "<Figure size 432x288 with 1 Axes>"
      ]
     },
     "metadata": {
      "needs_background": "light"
     },
     "output_type": "display_data"
    }
   ],
   "source": [
    "import matplotlib.pyplot as plt\n",
    "\n",
    "\n",
    "plt.bar(range(1, 151), var_exp, align='center',\n",
    "        label='Individual explained variance')\n",
    "plt.step(range(1, 151), cum_var_exp, where='mid',\n",
    "         label='Cumulative explained variance')\n",
    "plt.ylabel('Explained variance ratio')\n",
    "plt.xlabel('Principal component index')\n",
    "plt.legend(loc='best')\n",
    "plt.tight_layout()\n",
    "plt.show()"
   ]
  },
  {
   "cell_type": "code",
   "execution_count": 20,
   "id": "25f88039-a1cc-4819-a451-f7078c589b16",
   "metadata": {},
   "outputs": [
    {
     "data": {
      "text/plain": [
       "(150, 2)"
      ]
     },
     "execution_count": 20,
     "metadata": {},
     "output_type": "execute_result"
    }
   ],
   "source": [
    "from sklearn.decomposition import KernelPCA\n",
    "from sklearn.preprocessing import StandardScaler\n",
    "\n",
    "sc = StandardScaler()\n",
    "X_train_std = sc.fit_transform(df)\n",
    "\n",
    "transformer = KernelPCA(n_components=2, kernel='poly', degree=2)\n",
    "X_transformed = transformer.fit_transform(X_train_std)\n",
    "X_transformed.shape"
   ]
  },
  {
   "cell_type": "code",
   "execution_count": 22,
   "id": "fd3c5b41-ae09-4087-88aa-b2a58ff048b1",
   "metadata": {},
   "outputs": [
    {
     "data": {
      "image/png": "[encoded data removed]",
      "text/plain": [
       "<Figure size 432x288 with 1 Axes>"
      ]
     },
     "metadata": {
      "needs_background": "light"
     },
     "output_type": "display_data"
    }
   ],
   "source": [
    "plt.scatter(X_transformed[:, 0], X_transformed[:, 1], color='red', marker='o', label='Point')\n",
    "plt.show()"
   ]
  },
  {
   "cell_type": "code",
   "execution_count": null,
   "id": "bc93d230-8d61-4a7e-9b2a-17d75b04b406",
   "metadata": {},
   "outputs": [],
   "source": []
  }
 ],
 "metadata": {
  "kernelspec": {
   "display_name": "Python 3 (ipykernel)",
   "language": "python",
   "name": "python3"
  },
  "language_info": {
   "codemirror_mode": {
    "name": "ipython",
    "version": 3
   },
   "file_extension": ".py",
   "mimetype": "text/x-python",
   "name": "python",
   "nbconvert_exporter": "python",
   "pygments_lexer": "ipython3",
   "version": "3.9.12"
  }
 },
 "nbformat": 4,
 "nbformat_minor": 5
}
