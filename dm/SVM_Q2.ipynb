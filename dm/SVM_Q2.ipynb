{
 "cells": [
  {
   "cell_type": "code",
   "execution_count": 1,
   "id": "a20eac60-02f4-423c-89de-fc326ebb0e78",
   "metadata": {},
   "outputs": [],
   "source": [
    "import numpy as np\n",
    "from matplotlib.colors import ListedColormap\n",
    "import matplotlib.pyplot as plt\n",
    "\n",
    "\n",
    "X = np.array([[4, 2.9], [4, 4], [1, 2.5], [2.5, 1], [4.9, 4.5], [1.9, 1.9], [3.5, 4], [0.5, 1.5], [2, 2.1], [4.5, 2.5]], dtype=np.float32)\n",
    "y = np.array([1, 1, -1, -1, 1, -1, 1, -1, -1, 1], dtype=np.int8)\n",
    "alpha = np.array([0.414, 0, 0, 0.018, 0, 0, 0.018, 0, 0.414, 0], dtype=np.float32)"
   ]
  },
  {
   "cell_type": "code",
   "execution_count": 2,
   "id": "bfbff359-8883-45ed-a506-cdfdd2fd4829",
   "metadata": {},
   "outputs": [
    {
     "name": "stdout",
     "output_type": "stream",
     "text": [
      "W: [0.846      0.38520008], b: -3.472668170928955\n"
     ]
    }
   ],
   "source": [
    "W = np.multiply(X, (y * alpha).reshape((-1, 1))).sum(axis=0)\n",
    "b = np.average(y - np.dot(X, W))\n",
    "print(f'W: {W}, b: {b}')"
   ]
  },
  {
   "cell_type": "code",
   "execution_count": 4,
   "id": "e1ed5d50-4629-4f55-9ba1-5c99e264c7d5",
   "metadata": {},
   "outputs": [
    {
     "data": {
      "image/png": "[encoded data removed]",
      "text/plain": [
       "<Figure size 432x288 with 1 Axes>"
      ]
     },
     "metadata": {
      "needs_background": "light"
     },
     "output_type": "display_data"
    }
   ],
   "source": [
    "x1_min, x1_max = X[:, 0].min() - 1, X[:, 0].max() + 1\n",
    "x2_min, x2_max = X[:, 1].min() - 1, X[:, 1].max() + 1\n",
    "resolution=0.2\n",
    "x1 = np.arange(x1_min, x1_max, resolution)\n",
    "x2 = (-b - W[0] * x1) / W[1]\n",
    "plt.plot(x1, x2)\n",
    "markers = ('o', 's', '^', 'v', '<')\n",
    "colors = ('red', 'blue', 'lightgreen', 'gray', 'cyan')\n",
    "for idx, cl in enumerate(np.unique(y)):\n",
    "        plt.scatter(x=X[y == cl, 0], \n",
    "                    y=X[y == cl, 1],\n",
    "                    alpha=0.8, \n",
    "                    c=colors[idx],\n",
    "                    marker=markers[idx], \n",
    "                    label=f'Class {cl}', \n",
    "                    edgecolor='black')"
   ]
  },
  {
   "cell_type": "code",
   "execution_count": 7,
   "id": "9bf501ea-3800-474f-bc63-7aed6ab7b1fc",
   "metadata": {},
   "outputs": [],
   "source": [
    "def hyperplane(Xs):\n",
    "    return np.dot(Xs, W) + b"
   ]
  },
  {
   "cell_type": "code",
   "execution_count": 14,
   "id": "89dcb588-a523-4317-b0b2-ddd24703227b",
   "metadata": {},
   "outputs": [
    {
     "data": {
      "text/plain": [
       "<matplotlib.collections.PathCollection at 0x12555d1c0>"
      ]
     },
     "execution_count": 14,
     "metadata": {},
     "output_type": "execute_result"
    },
    {
     "data": {
      "image/png": "[encoded data removed]",
      "text/plain": [
       "<Figure size 432x288 with 1 Axes>"
      ]
     },
     "metadata": {
      "needs_background": "light"
     },
     "output_type": "display_data"
    }
   ],
   "source": [
    "x1_min, x1_max = X[:, 0].min() - 1, X[:, 0].max() + 1\n",
    "x2_min, x2_max = X[:, 1].min() - 1, X[:, 1].max() + 1\n",
    "resolution=0.02\n",
    "xx1, xx2 = np.meshgrid(np.arange(x1_min, x1_max, resolution),\n",
    "                           np.arange(x2_min, x2_max, resolution))\n",
    "markers = ('o', 's', '^', 'v', '<')\n",
    "colors = ('red', 'blue', 'lightgreen', 'gray', 'cyan')\n",
    "cmap = ListedColormap(colors[:len(np.unique(y))])\n",
    "lab = hyperplane(np.array([xx1.ravel(), xx2.ravel()]).T)\n",
    "lab = lab.reshape(xx1.shape)\n",
    "plt.contourf(xx1, xx2, lab, alpha=0.3, cmap=cmap)\n",
    "plt.xlim(xx1.min(), xx1.max())\n",
    "plt.ylim(xx2.min(), xx2.max())\n",
    "for idx, cl in enumerate(np.unique(y)):\n",
    "        plt.scatter(x=X[y == cl, 0], \n",
    "                    y=X[y == cl, 1],\n",
    "                    alpha=0.8, \n",
    "                    c=colors[idx],\n",
    "                    marker=markers[idx], \n",
    "                    label=f'Class {cl}', \n",
    "                    edgecolor='black')\n",
    "        \n",
    "plt.scatter(x=3.0, \n",
    "            y=3.0,\n",
    "            alpha=0.8, \n",
    "            c='cyan',\n",
    "            marker='v', \n",
    "            label=f'Class {cl}', \n",
    "            edgecolor='black')"
   ]
  },
  {
   "cell_type": "code",
   "execution_count": 9,
   "id": "2b79d2a6-8b59-41fd-a644-b1fdeee64c33",
   "metadata": {},
   "outputs": [
    {
     "name": "stdout",
     "output_type": "stream",
     "text": [
      "x[3]: [2.5 1. ], x[5]: [1.9 1.9], x[8]: [2.  2.1]\n",
      "dist_3_sv: -1.0461515188217163, dist_5: -1.219264268875122, dist_8_sv: -1.0453767776489258\n"
     ]
    }
   ],
   "source": [
    "from numpy import linalg as LA\n",
    "\n",
    "print(f'x[3]: {X[3]}, x[5]: {X[5]}, x[8]: {X[8]}')\n",
    "\n",
    "dist_3 = hyperplane(X[3]) / LA.norm(W)\n",
    "dist_5 = hyperplane(X[5]) / LA.norm(W)\n",
    "dist_8 = hyperplane(X[8]) / LA.norm(W)\n",
    "print(f'dist_3_sv: {dist_3}, dist_5: {dist_5}, dist_8_sv: {dist_8}')"
   ]
  },
  {
   "cell_type": "code",
   "execution_count": 11,
   "id": "c0b04171-e70c-4e57-a593-b9e50035862b",
   "metadata": {},
   "outputs": [
    {
     "data": {
      "text/plain": [
       "1"
      ]
     },
     "execution_count": 11,
     "metadata": {},
     "output_type": "execute_result"
    }
   ],
   "source": [
    "def predict(x_test):\n",
    "    if hyperplane(x_test) > 0:\n",
    "        return 1;\n",
    "    return -1\n",
    "\n",
    "predict(np.array([3, 3]))"
   ]
  },
  {
   "cell_type": "code",
   "execution_count": 12,
   "id": "da12fc2f-1c1c-40c8-ac83-f1329e67766a",
   "metadata": {},
   "outputs": [
    {
     "data": {
      "text/plain": [
       "0.23767204347855916"
      ]
     },
     "execution_count": 12,
     "metadata": {},
     "output_type": "execute_result"
    }
   ],
   "source": [
    "hyperplane(np.array([3.0, 3.0])) / LA.norm(W)"
   ]
  },
  {
   "cell_type": "code",
   "execution_count": null,
   "id": "f1e6c8fe-b1c3-47df-87a7-67ea05c726a4",
   "metadata": {},
   "outputs": [],
   "source": []
  }
 ],
 "metadata": {
  "kernelspec": {
   "display_name": "Python 3 (ipykernel)",
   "language": "python",
   "name": "python3"
  },
  "language_info": {
   "codemirror_mode": {
    "name": "ipython",
    "version": 3
   },
   "file_extension": ".py",
   "mimetype": "text/x-python",
   "name": "python",
   "nbconvert_exporter": "python",
   "pygments_lexer": "ipython3",
   "version": "3.9.12"
  }
 },
 "nbformat": 4,
 "nbformat_minor": 5
}
