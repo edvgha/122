{
 "cells": [
  {
   "cell_type": "markdown",
   "metadata": {},
   "source": [
    "#### Read data"
   ]
  },
  {
   "cell_type": "code",
   "execution_count": 1,
   "metadata": {},
   "outputs": [],
   "source": [
    "import os\n",
    "import numpy as np\n",
    "import pickle\n",
    "import random\n",
    "\n",
    "def read_data(file):\n",
    "    '''\n",
    "    Read each file into a list of strings. \n",
    "    Example:\n",
    "    [\"it's\", 'a', 'curious', 'thing', \"i've\", 'found', 'that', 'when', 'willis', 'is', 'not', 'called', 'on', \n",
    "    ...'to', 'carry', 'the', 'whole', 'movie', \"he's\", 'much', 'better', 'and', 'so', 'is', 'the', 'movie']\n",
    "    '''\n",
    "    f = open(file)\n",
    "    lines = f.read().split(' ')\n",
    "    symbols = '${}()[].,:;+-*/&|<>=~\" '\n",
    "    words = map(lambda Element: Element.translate(str.maketrans(\"\", \"\", symbols)).strip(), lines)\n",
    "    words = filter(None, words)\n",
    "    return list(words)\n"
   ]
  },
  {
   "cell_type": "code",
   "execution_count": 2,
   "metadata": {},
   "outputs": [],
   "source": [
    "def folder_list(path,label):\n",
    "    '''\n",
    "    PARAMETER PATH IS THE PATH OF YOUR LOCAL FOLDER\n",
    "    '''\n",
    "    filelist = os.listdir(path)\n",
    "    review = []\n",
    "    for infile in filelist:\n",
    "        file = os.path.join(path,infile)\n",
    "        r = read_data(file)\n",
    "        r.append(label)\n",
    "        review.append(r)\n",
    "    return review\n"
   ]
  },
  {
   "cell_type": "code",
   "execution_count": 3,
   "metadata": {},
   "outputs": [],
   "source": [
    "def shuffle_data():\n",
    "    '''\n",
    "    pos_path is where you save positive review data.\n",
    "    neg_path is where you save negative review data.\n",
    "    '''\n",
    "    pos_path = \"data/pos\"\n",
    "    neg_path = \"data/neg\"\n",
    "    \n",
    "    pos_review = folder_list(pos_path,1)\n",
    "    neg_review = folder_list(neg_path,-1)\n",
    "    review = pos_review + neg_review\n",
    "    random.shuffle(review)\n",
    "    return list(review)"
   ]
  },
  {
   "cell_type": "markdown",
   "metadata": {},
   "source": [
    "### Split and save by pickle"
   ]
  },
  {
   "cell_type": "code",
   "execution_count": 4,
   "metadata": {},
   "outputs": [],
   "source": [
    "def split_and_save(pickle_fname = \"data/shuffled_review.pickle\", test_frac = .25):\n",
    "    '''\n",
    "    pickle_fname - pickle file name for saveing data\n",
    "    test_frac - spliting fraction \n",
    "    '''\n",
    "    review = shuffle_data()\n",
    "    n_test = int(len(review) * test_frac)\n",
    "    \n",
    "    test = review[:n_test]\n",
    "    train = review[n_test:]\n",
    "    \n",
    "    data = {\"train\":train, \"test\":test}\n",
    "    \n",
    "    pickle_out = open (pickle_fname, \"wb\")\n",
    "    pickle.dump(data, pickle_out)\n",
    "    pickle_out.close()\n",
    "\n",
    "split_and_save()"
   ]
  },
  {
   "cell_type": "markdown",
   "metadata": {},
   "source": [
    "### Load from pickle"
   ]
  },
  {
   "cell_type": "code",
   "execution_count": 5,
   "metadata": {},
   "outputs": [],
   "source": [
    "def load_from_pickle(pickle_fname = \"data/shuffled_review.pickle\"):\n",
    "    file = open(pickle_fname, 'rb')\n",
    "    data = pickle.load(file)\n",
    "    file.close()\n",
    "    return data[\"train\"], data[\"test\"]"
   ]
  },
  {
   "cell_type": "markdown",
   "metadata": {},
   "source": [
    "### Util functions"
   ]
  },
  {
   "cell_type": "code",
   "execution_count": 6,
   "metadata": {},
   "outputs": [],
   "source": [
    "def dotProduct(d1, d2):\n",
    "    \"\"\"\n",
    "    @param dict d1: a feature vector represented by a mapping from a feature (string) to a weight (float).\n",
    "    @param dict d2: same as d1\n",
    "    @return float: the dot product between d1 and d2\n",
    "    \"\"\"\n",
    "    if len(d1) < len(d2):\n",
    "        return dotProduct(d2, d1)\n",
    "    else:\n",
    "        return sum(d1.get(f, 0) * v for f, v in d2.items())\n",
    "\n",
    "def increment(d1, scale, d2):\n",
    "    \"\"\"\n",
    "    Implements d1 += scale * d2 for sparse vectors.\n",
    "    @param dict d1: the feature vector which is mutated.\n",
    "    @param float scale\n",
    "    @param dict d2: a feature vector.\n",
    "\n",
    "    NOTE: This function does not return anything, but rather\n",
    "    increments d1 in place. We do this because it is much faster to\n",
    "    change elements of d1 in place than to build a new dictionary and\n",
    "    return it.\n",
    "    \"\"\"\n",
    "    for f, v in d2.items():\n",
    "        d1[f] = d1.get(f, 0) + v * scale\n",
    "        \n",
    "def scalarMult(scale, d2):\n",
    "    for f, v in d2.items():\n",
    "        d2[f] = scale * d2[f]\n"
   ]
  },
  {
   "cell_type": "code",
   "execution_count": 7,
   "metadata": {},
   "outputs": [],
   "source": [
    "def _bagOfWords(words):\n",
    "    from collections import Counter\n",
    "    dw = Counter()\n",
    "    dw.update(words)\n",
    "    return dw.most_common()\n",
    "    \n",
    "    "
   ]
  },
  {
   "cell_type": "markdown",
   "metadata": {},
   "source": [
    "### Load train and test data"
   ]
  },
  {
   "cell_type": "code",
   "execution_count": 8,
   "metadata": {},
   "outputs": [],
   "source": [
    "train, test = load_from_pickle()"
   ]
  },
  {
   "cell_type": "markdown",
   "metadata": {},
   "source": [
    "### Convert to bag of words"
   ]
  },
  {
   "cell_type": "code",
   "execution_count": 9,
   "metadata": {},
   "outputs": [],
   "source": [
    "def bagOfWords(data):\n",
    "    \"\"\"\n",
    "    Input : [\"a\", \"b\", \"c\", \"a\", \"b\", \"b\", \"c\", \"d\"]\n",
    "    Output : {\"a\":2, \"b\":3, \"c\":2, \"d\":1}\n",
    "    \"\"\"\n",
    "    output = []\n",
    "    labels = []\n",
    "    for d in data:\n",
    "        di = dict(_bagOfWords(d))\n",
    "        if 1 in di:\n",
    "            labels.append(1)\n",
    "            del di[1]\n",
    "        else:\n",
    "            assert -1 in di\n",
    "            labels.append(-1)\n",
    "            del di[-1]\n",
    "        output.append(di)\n",
    "    return output, labels"
   ]
  },
  {
   "cell_type": "code",
   "execution_count": 10,
   "metadata": {},
   "outputs": [],
   "source": [
    "train_data, train_labels = bagOfWords(train)\n"
   ]
  },
  {
   "cell_type": "markdown",
   "metadata": {},
   "source": [
    "### The Pegasos Algorithm \n",
    "\n",
    "\\begin{align}\n",
    "OBJECTIVE - f(w) = \\lambda / 2  \\lVert w \\rVert ^ 2 + 1/m  \\sum_{i=1}^n l(w;(x, y)) \\\\\n",
    "Hinge\\ loss - l(w;(x, y)) = max (0, 1 - y w^Tx) \\\\\n",
    "\\end{align}\n",
    "$\n",
    "\\begin{align}\n",
    "INPUT: S, λ, T \\\\\n",
    "INITIALIZE: Set \\ w_1 & = 0 \\\\\n",
    "FOR\\ t = 1, 2, . . . , T \\\\\n",
    "&Choose\\ i_t ∈ {1, . . . , |S|}\\ uniformly\\ at\\ random \\\\\n",
    "&η_t = 1 / λt \\\\\n",
    "&IF y_{i_t}w_t^Tx_{i_t} < 1\\\\\n",
    "&\\ \\ \\ w_{t + 1} = (1 - η_t λ)w_t + η_t y_{i_t} x_{i_t} \\\\\n",
    "&ELSE \\\\\n",
    "&\\ \\ \\ w_{t + 1} = (1 - η_t λ)w_t \\\\\n",
    "OUTPUT: w_{T+1} \\\\\n",
    "\\end{align}\n",
    "$"
   ]
  },
  {
   "cell_type": "code",
   "execution_count": 11,
   "metadata": {},
   "outputs": [],
   "source": [
    "def pegasos(train, labels, niters, Lambda):\n",
    "    n = len(train)\n",
    "    w = dict()\n",
    "    for i in range(niters):\n",
    "        \n",
    "        j = np.random.randint(0, n)\n",
    "                \n",
    "        eta = 1.0 / (Lambda * (i + 1))\n",
    "            \n",
    "        if labels[j] * dotProduct(w, train[j]) < 1:\n",
    "            scalarMult((1 - 1.0/(i + 1)), w)\n",
    "            increment(w, labels[j] * eta, train[j])\n",
    "        else:\n",
    "            scalarMult((1 - 1.0/(i + 1)), w)\n",
    "    return w\n"
   ]
  },
  {
   "cell_type": "code",
   "execution_count": 57,
   "metadata": {},
   "outputs": [
    {
     "name": "stdout",
     "output_type": "stream",
     "text": [
      "144\n",
      "356\n",
      "1e-07\n"
     ]
    }
   ],
   "source": [
    "test_data, test_labels = bagOfWords(test)\n",
    "\n",
    "ll = [1e-9, 1e-8, 1e-7, 1e-6, 1e-5, 1e-4, 1e-3, 1e-2, 1e-1, 1]\n",
    "min_failed = len(test_labels)\n",
    "max_success = 0\n",
    "Lambda = 0\n",
    "for l in ll:\n",
    "    w = pegasos(train_data, train_labels, 500, l)\n",
    "    failed = 0\n",
    "    success = 0\n",
    "    for i in range(len(test_labels)):\n",
    "        score = test_labels[i] * dotProduct(test_data[i], w)\n",
    "        if score < 1:\n",
    "            failed = failed + 1\n",
    "        else:\n",
    "            success = success + 1\n",
    "    if min_failed > failed:\n",
    "        min_failed = failed\n",
    "        max_success = success\n",
    "        Lambda = l\n",
    "    \n",
    "print (min_failed)\n",
    "print (max_success)\n",
    "print (Lambda)"
   ]
  },
  {
   "cell_type": "code",
   "execution_count": 70,
   "metadata": {},
   "outputs": [
    {
     "data": {
      "image/png": "[encoded data removed]",
      "text/plain": [
       "<Figure size 432x288 with 1 Axes>"
      ]
     },
     "metadata": {
      "needs_background": "light"
     },
     "output_type": "display_data"
    }
   ],
   "source": [
    "w = pegasos(train_data, train_labels, 1000, 1e-07)\n",
    "scores = []\n",
    "fails = []\n",
    "for i in range(len(test_labels)):\n",
    "    score = test_labels[i] * dotProduct(test_data[i], w)\n",
    "    scores.append(score)\n",
    "    if score < 1:\n",
    "        f = test_data[i]\n",
    "        f[test_labels[i]] = 1\n",
    "        fails.append(f)\n",
    "\n",
    "scores.sort()\n",
    "%matplotlib inline\n",
    "import matplotlib.pyplot as plt\n",
    "plt.plot(scores)\n",
    "plt.show()"
   ]
  },
  {
   "cell_type": "code",
   "execution_count": 71,
   "metadata": {},
   "outputs": [],
   "source": [
    "def ErrorAnalysis(fails, w):\n",
    "   return True\n",
    "        "
   ]
  }
 ],
 "metadata": {
  "kernelspec": {
   "display_name": "Python 3",
   "language": "python",
   "name": "python3"
  },
  "language_info": {
   "codemirror_mode": {
    "name": "ipython",
    "version": 3
   },
   "file_extension": ".py",
   "mimetype": "text/x-python",
   "name": "python",
   "nbconvert_exporter": "python",
   "pygments_lexer": "ipython3",
   "version": "3.6.8"
  }
 },
 "nbformat": 4,
 "nbformat_minor": 2
}
