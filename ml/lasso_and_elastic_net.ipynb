{
 "cells": [
  {
   "cell_type": "code",
   "execution_count": 1,
   "metadata": {
    "collapsed": true
   },
   "outputs": [],
   "source": [
    "# This notebook demonstrates the regularization paths for lasso and elastic net on simulated data with\n",
    "# highly correlated features.\n",
    "# It was prepared by Vlad Kobzar (vk283@nyu.edu) for the Machine Learning course at NYU's Center for Data Science\n",
    "# https://davidrosenberg.github.io/ml2017/\n",
    "# February 7, 2017\n",
    "\n",
    "# The model distribution is given in Hastie, et al., Statistical Learning with Sparsity, Section 4.1\n",
    "# Z1, Z2 ~ N(0,1) independent\n",
    "# Y = 3*Z1 -1.5*Z2 +2 epsilon, with epsilon ~ N(0,1)\n",
    "# Xj= Z1+ xi_j/5 with xi_j ~N(0,1) for j = 1,2,3, and\n",
    "# Xj= Z2+ xi_j/5 with xi_j ~N(0,1) for j = 4,5,6.\n",
    "\n",
    "# The notebook uses TeX to render matplotlib labels\n",
    "# It requires that you have tex and the other dependencies\n",
    "# described at http://matplotlib.org/users/usetex.html\n",
    "# properly installed on your system. \n",
    "# In particular, to install ghostscript on your Mac you may use\n",
    "#    brew install ghostscript"
   ]
  },
  {
   "cell_type": "code",
   "execution_count": 1,
   "metadata": {},
   "outputs": [
    {
     "ename": "ModuleNotFoundError",
     "evalue": "No module named 'mpld3'",
     "output_type": "error",
     "traceback": [
      "\u001b[0;31m---------------------------------------------------------------------------\u001b[0m",
      "\u001b[0;31mModuleNotFoundError\u001b[0m                       Traceback (most recent call last)",
      "\u001b[0;32m<ipython-input-1-1ec60fd84c4a>\u001b[0m in \u001b[0;36m<module>\u001b[0;34m\u001b[0m\n\u001b[1;32m      2\u001b[0m \u001b[0;32mimport\u001b[0m \u001b[0mnumpy\u001b[0m \u001b[0;32mas\u001b[0m \u001b[0mnp\u001b[0m\u001b[0;34m\u001b[0m\u001b[0;34m\u001b[0m\u001b[0m\n\u001b[1;32m      3\u001b[0m \u001b[0;32mimport\u001b[0m \u001b[0mmatplotlib\u001b[0m\u001b[0;34m.\u001b[0m\u001b[0mpyplot\u001b[0m \u001b[0;32mas\u001b[0m \u001b[0mplt\u001b[0m\u001b[0;34m\u001b[0m\u001b[0;34m\u001b[0m\u001b[0m\n\u001b[0;32m----> 4\u001b[0;31m \u001b[0;32mimport\u001b[0m \u001b[0mmpld3\u001b[0m\u001b[0;34m\u001b[0m\u001b[0;34m\u001b[0m\u001b[0m\n\u001b[0m\u001b[1;32m      5\u001b[0m \u001b[0;32mimport\u001b[0m \u001b[0mrandom\u001b[0m \u001b[0;32mas\u001b[0m \u001b[0mrn\u001b[0m\u001b[0;34m\u001b[0m\u001b[0;34m\u001b[0m\u001b[0m\n\u001b[1;32m      6\u001b[0m \u001b[0;34m\u001b[0m\u001b[0m\n",
      "\u001b[0;31mModuleNotFoundError\u001b[0m: No module named 'mpld3'"
     ]
    }
   ],
   "source": [
    "### from itertools import cycle\n",
    "import numpy as np\n",
    "import matplotlib.pyplot as plt\n",
    "import mpld3\n",
    "import random as rn\n",
    "\n",
    "from sklearn.linear_model import lasso_path, enet_path\n",
    "from sklearn import datasets\n",
    "\n",
    "from matplotlib import rc\n",
    "rc('font',**{'family':'sans-serif','sans-serif':['Helvetica']})\n",
    "## for Palatino and other serif fonts use:\n",
    "#rc('font',**{'family':'serif','serif':['Palatino']})\n",
    "rc('text', usetex=True)\n",
    "plt.rcParams.update({'font.size': 16})\n",
    "\n",
    "\n",
    "#sample size\n",
    "N=100\n",
    "mu = 0\n",
    "sigma = 1\n",
    "\n",
    "np.random.seed(2)\n",
    "rn.seed(2)\n",
    "\n",
    "y=np.empty(0)\n",
    "X=np.empty([0,6])\n",
    "for i in range(N):\n",
    "    Z1= rn.normalvariate(mu,sigma)\n",
    "    Z2= rn.normalvariate(mu,sigma)\n",
    "    y = np.append(y, 3*Z1-1.5*Z2+2*rn.normalvariate(mu,sigma))\n",
    "    Xarr = np.array([Z1,Z1,Z1,Z2,Z2,Z2])+ np.random.normal(mu, sigma,6)/5\n",
    "    X = np.vstack ((X, Xarr.tolist()))\n",
    "\n",
    "# Compute paths\n",
    "eps = 5e-3  # the smaller it is the longer is the path\n",
    "alphas_lasso, coefs_lasso, _ = lasso_path(X, y, eps, fit_intercept=False)\n",
    "alphas_enet, coefs_enet, _ = enet_path(X, y, eps=eps, l1_ratio=0.3, fit_intercept=False)\n",
    "\n",
    "plt.rc('text', usetex=True)\n",
    "plt.rc('font', family='serif')\n",
    "\n",
    "figsize = plt.figaspect(1/2.5)\n",
    "f, (ax1, ax2) = plt.subplots(1, 2, sharey=True, figsize=figsize) \n",
    "colors = cycle(['goldenrod', 'goldenrod', 'goldenrod', 'skyblue', 'skyblue', 'skyblue']) \n",
    "for coef_l, c in zip(coefs_lasso,colors):\n",
    "    l1 = ax1.plot(alphas_lasso, coef_l, c=c)\n",
    "\n",
    "ax1.set_xlabel(r\"$\\displaystyle\\lambda_1$\", fontsize=16)\n",
    "ax1.set_ylabel('coefficients')\n",
    "ax1.set_title('Lasso Paths')\n",
    "ax1.axis('tight')\n",
    "\n",
    "for coef_e, c in zip(coefs_enet, colors):\n",
    "    l2 = ax2.plot(alphas_enet, coef_e, c=c)\n",
    "\n",
    "ax2.set_xlabel(r\"$\\displaystyle\\lambda_1$\", fontsize=16)\n",
    "ax2.set_ylabel('coefficients')\n",
    "ax2.set_title('Elastic-Net Paths')\n",
    "ax2.axis('tight')\n",
    "\n",
    "plt.show()\n",
    "\n",
    "f.tight_layout()\n",
    "f.savefig('lasso_enet_figure.pdf')\n",
    "\n",
    "extent = ax1.get_tightbbox(f.canvas.renderer).transformed(f.dpi_scale_trans.inverted())\n",
    "f.savefig('lasso_figure.pdf', bbox_inches=extent.expanded(1.1, 1.1))\n",
    "\n",
    "extent = ax2.get_tightbbox(f.canvas.renderer).transformed(f.dpi_scale_trans.inverted())\n",
    "f.savefig('enet_figure.pdf', bbox_inches=extent.expanded(1.1, 1.1))\n",
    "\n",
    "\n"
   ]
  },
  {
   "cell_type": "code",
   "execution_count": null,
   "metadata": {
    "collapsed": true
   },
   "outputs": [],
   "source": []
  }
 ],
 "metadata": {
  "anaconda-cloud": {},
  "kernelspec": {
   "display_name": "Python 3",
   "language": "python",
   "name": "python3"
  },
  "language_info": {
   "codemirror_mode": {
    "name": "ipython",
    "version": 3
   },
   "file_extension": ".py",
   "mimetype": "text/x-python",
   "name": "python",
   "nbconvert_exporter": "python",
   "pygments_lexer": "ipython3",
   "version": "3.6.8"
  }
 },
 "nbformat": 4,
 "nbformat_minor": 1
}
