{
 "cells": [
  {
   "cell_type": "code",
   "execution_count": 17,
   "metadata": {},
   "outputs": [
    {
     "name": "stdout",
     "output_type": "stream",
     "text": [
      "[[1 1 1]\n",
      " [0 0 0]\n",
      " [3 3 3]\n",
      " [4 4 4]]\n"
     ]
    }
   ],
   "source": [
    "import numpy as np\n",
    "\n",
    "nclasses = 3\n",
    "y = 2\n",
    "x = np.array([1, 2, 3, 4])\n",
    "s = 4\n",
    "z = np.zeros(s)\n",
    "\n",
    "#np.concatenate((z, x, z), axis=0)\n",
    "t = x\n",
    "\n",
    "for i in range(0, y):\n",
    "    t = np.concatenate((z, t), axis=0)\n",
    "for i in range(0, nclasses - y -1):\n",
    "    t = np.concatenate((t, z), axis=0)\n",
    "    \n",
    "x = np.array([[1, 1, 1], [2, 2, 2], [3, 3, 3], [4, 4, 4]])\n",
    "x[1] = np.array([0, 0, 0])\n",
    "print (x)"
   ]
  },
  {
   "cell_type": "code",
   "execution_count": null,
   "metadata": {},
   "outputs": [],
   "source": []
  }
 ],
 "metadata": {
  "kernelspec": {
   "display_name": "Python 3",
   "language": "python",
   "name": "python3"
  },
  "language_info": {
   "codemirror_mode": {
    "name": "ipython",
    "version": 3
   },
   "file_extension": ".py",
   "mimetype": "text/x-python",
   "name": "python",
   "nbconvert_exporter": "python",
   "pygments_lexer": "ipython3",
   "version": "3.6.8"
  }
 },
 "nbformat": 4,
 "nbformat_minor": 2
}
