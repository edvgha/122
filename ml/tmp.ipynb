{
 "cells": [
  {
   "cell_type": "code",
   "execution_count": 33,
   "metadata": {},
   "outputs": [],
   "source": [
    "s = [\"a\", \"b\", \"c\", \"a\", \"b\", \"b\", \"c\", \"d\", 1]\n",
    "def _bagOfWords(words):\n",
    "    from collections import Counter\n",
    "    dw = Counter()\n",
    "    dw.update(words)\n",
    "    return dw.most_common()"
   ]
  },
  {
   "cell_type": "code",
   "execution_count": 42,
   "metadata": {},
   "outputs": [
    {
     "name": "stdout",
     "output_type": "stream",
     "text": [
      "aaa\n",
      "[('b', 3), ('a', 2), ('c', 2), ('d', 1), (1, 1)]\n"
     ]
    },
    {
     "data": {
      "text/plain": [
       "[('b', 3), ('a', 2), ('c', 2), ('d', 1)]"
      ]
     },
     "execution_count": 42,
     "metadata": {},
     "output_type": "execute_result"
    }
   ],
   "source": [
    "t = []\n",
    "t.append(_bagOfWords(s))\n",
    "if (1,1) in t[0]:\n",
    "    print ('aaa')\n",
    "    \n",
    "print (t[0])\n",
    "del t[0][4]\n",
    "t[0]"
   ]
  },
  {
   "cell_type": "code",
   "execution_count": 19,
   "metadata": {},
   "outputs": [
    {
     "data": {
      "text/plain": [
       "'qaq e'"
      ]
     },
     "execution_count": 19,
     "metadata": {},
     "output_type": "execute_result"
    }
   ],
   "source": [
    "s.get('valod', 'qaq e')"
   ]
  },
  {
   "cell_type": "code",
   "execution_count": 7,
   "metadata": {},
   "outputs": [
    {
     "name": "stdout",
     "output_type": "stream",
     "text": [
      "2\n",
      "2\n",
      "5\n",
      "7\n",
      "4\n",
      "9\n",
      "9\n",
      "6\n",
      "0\n",
      "3\n",
      "4\n",
      "0\n",
      "7\n",
      "7\n",
      "4\n",
      "5\n",
      "1\n",
      "0\n",
      "1\n",
      "0\n",
      "3\n",
      "5\n",
      "3\n",
      "6\n",
      "2\n",
      "9\n",
      "0\n",
      "6\n",
      "0\n",
      "2\n"
     ]
    }
   ],
   "source": [
    "import numpy as np\n",
    "s = np.random.randint(0, 10)\n",
    "s1 = np.random.randint(0, 10)\n",
    "for i in range(30):\n",
    "    print (np.random.randint(0, 10))"
   ]
  },
  {
   "cell_type": "code",
   "execution_count": null,
   "metadata": {},
   "outputs": [],
   "source": []
  }
 ],
 "metadata": {
  "kernelspec": {
   "display_name": "Python 3",
   "language": "python",
   "name": "python3"
  },
  "language_info": {
   "codemirror_mode": {
    "name": "ipython",
    "version": 3
   },
   "file_extension": ".py",
   "mimetype": "text/x-python",
   "name": "python",
   "nbconvert_exporter": "python",
   "pygments_lexer": "ipython3",
   "version": "3.6.8"
  }
 },
 "nbformat": 4,
 "nbformat_minor": 2
}
