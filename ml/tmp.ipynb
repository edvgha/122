{
 "cells": [
  {
   "cell_type": "code",
   "execution_count": 14,
   "metadata": {},
   "outputs": [
    {
     "name": "stdout",
     "output_type": "stream",
     "text": [
      "(100, 4)\n",
      "(100,)\n"
     ]
    },
    {
     "data": {
      "text/plain": [
       "array([ 0.5009639 ,  2.37030433, -0.71512462, -0.49748866, -0.83294182,\n",
       "       -1.43521603, -1.8254493 ,  0.44234494, -0.45427349,  1.50913755,\n",
       "       -0.71673523,  0.12179075,  1.09718729,  3.05546177,  0.00662194,\n",
       "       -0.69658317, -0.60910527, -1.36849645,  0.05494463,  3.50312168,\n",
       "        0.99672532, -0.38879602, -2.46652119,  0.92477227, -0.80856607,\n",
       "       -1.12866745,  0.45167687,  0.95927493, -1.10228964, -0.05592487,\n",
       "       -0.86361672,  1.93583299, -2.79995593,  0.85640546, -0.02745133,\n",
       "        2.60383711, -0.60796053,  3.07413646, -3.40632503, -0.78003834,\n",
       "        1.88125071,  1.13671223, -0.44741754, -0.77294834, -1.01345052,\n",
       "        0.76705319, -1.17347129, -0.59680843,  1.7538333 , -1.06180788,\n",
       "        2.78778645, -2.45464274, -0.82857817,  1.11672915, -0.25150956,\n",
       "        3.10204245, -2.43804566, -0.47725696,  2.24067516,  1.8308251 ,\n",
       "       -0.90045788, -0.52137567, -0.59864317, -0.90196074,  1.39798863,\n",
       "        4.97678164,  0.63547127,  0.72217439,  0.96454723, -0.30434309,\n",
       "       -1.08935737,  0.52997802, -0.30388632, -0.60070106,  1.12310922,\n",
       "       -1.06610138,  1.41610435, -0.99041413, -0.55716857,  1.15090256,\n",
       "        2.83984066, -0.1613264 ,  0.29294194,  1.95956978, -0.11098658,\n",
       "       -0.61626128,  1.70809655, -0.64507994,  0.50872507, -0.76301124,\n",
       "       -1.4310574 ,  1.10796163,  1.86487929, -0.45337946,  0.12559044,\n",
       "        0.42877174, -1.40174986,  0.41722246,  1.68967224, -1.305695  ])"
      ]
     },
     "execution_count": 14,
     "metadata": {},
     "output_type": "execute_result"
    }
   ],
   "source": [
    "from sklearn.svm import LinearSVC\n",
    "from sklearn.datasets import make_classification\n",
    "X, y = make_classification(n_features=4, random_state=0)\n",
    "clf = LinearSVC(random_state=0, tol=1e-5)\n",
    "clf.fit(X, y)\n",
    "\n",
    "d = clf.decision_function(X)\n",
    "\n",
    "print (X.shape)\n",
    "print (d.shape)\n",
    "d"
   ]
  },
  {
   "cell_type": "code",
   "execution_count": 13,
   "metadata": {},
   "outputs": [
    {
     "name": "stdout",
     "output_type": "stream",
     "text": [
      "[1 2 4 6]\n",
      "[[1 0 0 0]\n",
      " [0 1 0 0]\n",
      " [0 0 0 1]\n",
      " [0 0 1 0]\n",
      " [0 1 0 0]]\n"
     ]
    }
   ],
   "source": [
    "from sklearn import preprocessing\n",
    "lb = preprocessing.LabelBinarizer()\n",
    "b = lb.fit_transform([1, 2, 6, 4, 2])\n",
    "print(lb.classes_)\n",
    "print (b)"
   ]
  },
  {
   "cell_type": "code",
   "execution_count": 34,
   "metadata": {},
   "outputs": [
    {
     "data": {
      "text/plain": [
       "array([1, 2, 0, 0])"
      ]
     },
     "execution_count": 34,
     "metadata": {},
     "output_type": "execute_result"
    }
   ],
   "source": [
    "import numpy as np\n",
    "\n",
    "a = np.array([[1, 5, 3], [0, 1, 2], [10, 9, 8], [20, 19, 18]])\n",
    "np.argmax(a, axis=1)"
   ]
  },
  {
   "cell_type": "code",
   "execution_count": null,
   "metadata": {},
   "outputs": [],
   "source": []
  }
 ],
 "metadata": {
  "kernelspec": {
   "display_name": "Python 3",
   "language": "python",
   "name": "python3"
  },
  "language_info": {
   "codemirror_mode": {
    "name": "ipython",
    "version": 3
   },
   "file_extension": ".py",
   "mimetype": "text/x-python",
   "name": "python",
   "nbconvert_exporter": "python",
   "pygments_lexer": "ipython3",
   "version": "3.7.3"
  }
 },
 "nbformat": 4,
 "nbformat_minor": 2
}
