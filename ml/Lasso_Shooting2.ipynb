{
 "cells": [
  {
   "cell_type": "code",
   "execution_count": 1,
   "metadata": {},
   "outputs": [],
   "source": [
    "import numpy as np\n",
    "import matplotlib.pyplot as plt\n",
    "#import mpld3\n",
    "import random as rn\n",
    "\n",
    "from sklearn.linear_model import lasso_path, enet_path\n",
    "from sklearn import datasets\n",
    "\n",
    "from matplotlib import rc\n",
    "rc('font',**{'family':'sans-serif','sans-serif':['Helvetica']})\n",
    "## for Palatino and other serif fonts use:\n",
    "#rc('font',**{'family':'serif','serif':['Palatino']})\n",
    "rc('text', usetex=True)\n",
    "plt.rcParams.update({'font.size': 16})"
   ]
  },
  {
   "cell_type": "code",
   "execution_count": 2,
   "metadata": {},
   "outputs": [],
   "source": [
    "N=100\n",
    "mu = 0\n",
    "sigma = 1\n",
    "\n",
    "np.random.seed(2)\n",
    "rn.seed(2)\n",
    "\n",
    "y=np.empty(0)\n",
    "X=np.empty([0,6])\n",
    "for i in range(N):\n",
    "    Z1= rn.normalvariate(mu,sigma)\n",
    "    Z2= rn.normalvariate(mu,sigma)\n",
    "    y = np.append(y, 3*Z1-1.5*Z2+2*rn.normalvariate(mu,sigma))\n",
    "    Xarr = np.array([Z1,Z1,Z1,Z2,Z2,Z2])+ np.random.normal(mu, sigma,6)/5\n",
    "    X = np.vstack ((X, Xarr.tolist()))\n"
   ]
  },
  {
   "cell_type": "code",
   "execution_count": 3,
   "metadata": {},
   "outputs": [],
   "source": [
    "eps = 5e-3  # the smaller it is the longer is the path\n",
    "alphas_lasso, coefs_lasso, _ = lasso_path(X, y, eps, fit_intercept=False)"
   ]
  },
  {
   "cell_type": "code",
   "execution_count": 4,
   "metadata": {},
   "outputs": [
    {
     "data": {
      "text/plain": [
       "((100, 6), (100,), (100,), (6, 100))"
      ]
     },
     "execution_count": 4,
     "metadata": {},
     "output_type": "execute_result"
    }
   ],
   "source": [
    "X.shape, y.shape, alphas_lasso.shape, coefs_lasso.shape\n"
   ]
  },
  {
   "cell_type": "code",
   "execution_count": 5,
   "metadata": {},
   "outputs": [
    {
     "data": {
      "text/plain": [
       "array([ 0.,  0.,  0., -0., -0., -0.])"
      ]
     },
     "execution_count": 5,
     "metadata": {},
     "output_type": "execute_result"
    }
   ],
   "source": [
    "def lasso_with_sklearn(X, y, l1_reg=1):\n",
    "    from sklearn.linear_model import Lasso\n",
    "    n = X.shape[0]\n",
    "    sklearn_lasso = Lasso(alpha=n*l1_reg, fit_intercept=False, normalize=False)\n",
    "    sklearn_lasso.fit(X, y)\n",
    "    return sklearn_lasso\n",
    "sklearn_lasso = lasso_with_sklearn(X, y, 1)\n",
    "sklearn_lasso.coef_"
   ]
  },
  {
   "cell_type": "code",
   "execution_count": 16,
   "metadata": {},
   "outputs": [],
   "source": [
    "from numpy.linalg import inv\n",
    "def init_w(X, y, alpha):\n",
    "    di = alpha * np.identity(np.size(X,1))\n",
    "    XtX = np.dot(X.T, X)\n",
    "    w = np.dot(inv(XtX + di), np.dot(X.T, y))\n",
    "    return w\n",
    "\n",
    "def soft(a, b):\n",
    "    return np.sign(a) * abs(abs(a) - b)\n",
    "    \n",
    "def shooting_coords(X, y, alpha):\n",
    "    w = init_w(X, y, alpha)\n",
    "    maxIter = 300\n",
    "    it = 0\n",
    "    \n",
    "    m = 100\n",
    "    n = 6\n",
    "    \n",
    "    while it < maxIter:\n",
    "        it = it + 1\n",
    "        for j in range(0, n):\n",
    "            a_j = 0\n",
    "            for i in range(0, m):\n",
    "                a_j = a_j + X[i, j] * X[i, j]\n",
    "            a_j = 2 * a_j\n",
    "            c_j = 0\n",
    "            for i in range(0, m):\n",
    "                c_j = X[i, j] * (y[i] - np.dot(w.T, X[i,:]) + w[j] * X[i, j])\n",
    "            c_j = 2 * c_j\n",
    "            \n",
    "            w[j] = 0\n",
    "            if a_j != 0 and c_j != 0:\n",
    "                w[j] = soft(c_j / a_j, alpha / a_j)\n",
    "            \n",
    "    return w"
   ]
  },
  {
   "cell_type": "code",
   "execution_count": 17,
   "metadata": {},
   "outputs": [
    {
     "data": {
      "text/plain": [
       "array([ 0.00669024, -0.00400941, -0.00221879, -0.13088416, -0.14154292,\n",
       "       -0.14289558])"
      ]
     },
     "execution_count": 17,
     "metadata": {},
     "output_type": "execute_result"
    }
   ],
   "source": [
    "w = shooting_coords(X, y, 1)\n",
    "w"
   ]
  },
  {
   "cell_type": "code",
   "execution_count": 18,
   "metadata": {},
   "outputs": [],
   "source": [
    "#w = shooting_coords(X, y, 0.0008)\n",
    "coefs_shooting = []\n",
    "for i in alphas_lasso :\n",
    "    coefs_shooting.append(shooting_coords(X, y, i))\n",
    "coefs_shooting = np.array(coefs_shooting).T\n"
   ]
  },
  {
   "cell_type": "code",
   "execution_count": 19,
   "metadata": {},
   "outputs": [
    {
     "data": {
      "image/png": "[encoded data removed]",
      "text/plain": [
       "<Figure size 720x288 with 2 Axes>"
      ]
     },
     "metadata": {
      "needs_background": "light"
     },
     "output_type": "display_data"
    }
   ],
   "source": [
    "from itertools import cycle\n",
    "figsize = plt.figaspect(1/2.5)\n",
    "f, (ax1, ax2) = plt.subplots(1, 2, sharey=True, figsize=figsize) \n",
    "colors = cycle(['goldenrod', 'goldenrod', 'goldenrod', 'skyblue', 'skyblue', 'skyblue']) \n",
    "for coef_l, c in zip(coefs_lasso,colors):\n",
    "    l1 = ax1.plot(alphas_lasso, coef_l, c=c)\n",
    "    \n",
    "\n",
    "for coef_e, c in zip(coefs_shooting, colors):\n",
    "    l2 = ax2.plot(alphas_lasso, coef_e, c=c)"
   ]
  },
  {
   "cell_type": "code",
   "execution_count": null,
   "metadata": {},
   "outputs": [],
   "source": []
  }
 ],
 "metadata": {
  "kernelspec": {
   "display_name": "Python 3",
   "language": "python",
   "name": "python3"
  },
  "language_info": {
   "codemirror_mode": {
    "name": "ipython",
    "version": 3
   },
   "file_extension": ".py",
   "mimetype": "text/x-python",
   "name": "python",
   "nbconvert_exporter": "python",
   "pygments_lexer": "ipython3",
   "version": "3.6.8"
  }
 },
 "nbformat": 4,
 "nbformat_minor": 2
}
