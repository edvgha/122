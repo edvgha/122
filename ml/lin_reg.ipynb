{
 "cells": [
  {
   "cell_type": "code",
   "execution_count": 12,
   "metadata": {},
   "outputs": [],
   "source": [
    "import os\n",
    "import pandas as pd\n",
    "\n",
    "HOUSING_PATH = os.path.join(\"datasets\")\n",
    "csv_path = os.path.join(HOUSING_PATH, \"data.csv\")\n",
    "data = pd.read_csv(csv_path)\n"
   ]
  },
  {
   "cell_type": "code",
   "execution_count": 13,
   "metadata": {},
   "outputs": [
    {
     "data": {
      "text/html": [
       "<div>\n",
       "<style scoped>\n",
       "    .dataframe tbody tr th:only-of-type {\n",
       "        vertical-align: middle;\n",
       "    }\n",
       "\n",
       "    .dataframe tbody tr th {\n",
       "        vertical-align: top;\n",
       "    }\n",
       "\n",
       "    .dataframe thead th {\n",
       "        text-align: right;\n",
       "    }\n",
       "</style>\n",
       "<table border=\"1\" class=\"dataframe\">\n",
       "  <thead>\n",
       "    <tr style=\"text-align: right;\">\n",
       "      <th></th>\n",
       "      <th>x0</th>\n",
       "      <th>x1</th>\n",
       "      <th>x2</th>\n",
       "      <th>x3</th>\n",
       "      <th>x4</th>\n",
       "      <th>x5</th>\n",
       "      <th>x6</th>\n",
       "      <th>x7</th>\n",
       "      <th>x8</th>\n",
       "      <th>x9</th>\n",
       "      <th>...</th>\n",
       "      <th>x39</th>\n",
       "      <th>x40</th>\n",
       "      <th>x41</th>\n",
       "      <th>x42</th>\n",
       "      <th>x43</th>\n",
       "      <th>x44</th>\n",
       "      <th>x45</th>\n",
       "      <th>x46</th>\n",
       "      <th>x47</th>\n",
       "      <th>y</th>\n",
       "    </tr>\n",
       "  </thead>\n",
       "  <tbody>\n",
       "    <tr>\n",
       "      <th>0</th>\n",
       "      <td>0.0</td>\n",
       "      <td>0.0</td>\n",
       "      <td>0.0</td>\n",
       "      <td>0.0</td>\n",
       "      <td>0.0</td>\n",
       "      <td>0.0</td>\n",
       "      <td>0.0</td>\n",
       "      <td>0.0</td>\n",
       "      <td>0.0</td>\n",
       "      <td>0.0</td>\n",
       "      <td>...</td>\n",
       "      <td>-0.951051</td>\n",
       "      <td>-0.951051</td>\n",
       "      <td>-4.755257</td>\n",
       "      <td>-0.866019</td>\n",
       "      <td>-0.866019</td>\n",
       "      <td>-4.330093</td>\n",
       "      <td>-0.781824</td>\n",
       "      <td>-0.781824</td>\n",
       "      <td>-3.909121</td>\n",
       "      <td>-1.376575</td>\n",
       "    </tr>\n",
       "    <tr>\n",
       "      <th>1</th>\n",
       "      <td>0.0</td>\n",
       "      <td>0.0</td>\n",
       "      <td>0.0</td>\n",
       "      <td>0.0</td>\n",
       "      <td>0.0</td>\n",
       "      <td>0.0</td>\n",
       "      <td>0.0</td>\n",
       "      <td>0.0</td>\n",
       "      <td>0.0</td>\n",
       "      <td>0.0</td>\n",
       "      <td>...</td>\n",
       "      <td>-0.948871</td>\n",
       "      <td>-0.948871</td>\n",
       "      <td>-4.744353</td>\n",
       "      <td>-0.863095</td>\n",
       "      <td>-0.863095</td>\n",
       "      <td>-4.315474</td>\n",
       "      <td>-0.778705</td>\n",
       "      <td>-0.778705</td>\n",
       "      <td>-3.893525</td>\n",
       "      <td>0.878782</td>\n",
       "    </tr>\n",
       "    <tr>\n",
       "      <th>2</th>\n",
       "      <td>0.0</td>\n",
       "      <td>0.0</td>\n",
       "      <td>0.0</td>\n",
       "      <td>0.0</td>\n",
       "      <td>0.0</td>\n",
       "      <td>0.0</td>\n",
       "      <td>0.0</td>\n",
       "      <td>0.0</td>\n",
       "      <td>0.0</td>\n",
       "      <td>0.0</td>\n",
       "      <td>...</td>\n",
       "      <td>-0.948056</td>\n",
       "      <td>-0.948056</td>\n",
       "      <td>-4.740279</td>\n",
       "      <td>-0.862011</td>\n",
       "      <td>-0.862011</td>\n",
       "      <td>-4.310053</td>\n",
       "      <td>-0.777551</td>\n",
       "      <td>-0.777551</td>\n",
       "      <td>-3.887757</td>\n",
       "      <td>1.108701</td>\n",
       "    </tr>\n",
       "    <tr>\n",
       "      <th>3</th>\n",
       "      <td>0.0</td>\n",
       "      <td>0.0</td>\n",
       "      <td>0.0</td>\n",
       "      <td>0.0</td>\n",
       "      <td>0.0</td>\n",
       "      <td>0.0</td>\n",
       "      <td>0.0</td>\n",
       "      <td>0.0</td>\n",
       "      <td>0.0</td>\n",
       "      <td>0.0</td>\n",
       "      <td>...</td>\n",
       "      <td>-0.941999</td>\n",
       "      <td>-0.941999</td>\n",
       "      <td>-4.709996</td>\n",
       "      <td>-0.854081</td>\n",
       "      <td>-0.854081</td>\n",
       "      <td>-4.270406</td>\n",
       "      <td>-0.769161</td>\n",
       "      <td>-0.769161</td>\n",
       "      <td>-3.845805</td>\n",
       "      <td>0.519229</td>\n",
       "    </tr>\n",
       "    <tr>\n",
       "      <th>4</th>\n",
       "      <td>0.0</td>\n",
       "      <td>0.0</td>\n",
       "      <td>0.0</td>\n",
       "      <td>0.0</td>\n",
       "      <td>0.0</td>\n",
       "      <td>0.0</td>\n",
       "      <td>0.0</td>\n",
       "      <td>0.0</td>\n",
       "      <td>0.0</td>\n",
       "      <td>0.0</td>\n",
       "      <td>...</td>\n",
       "      <td>-0.939440</td>\n",
       "      <td>-0.939440</td>\n",
       "      <td>-4.697202</td>\n",
       "      <td>-0.850794</td>\n",
       "      <td>-0.850794</td>\n",
       "      <td>-4.253972</td>\n",
       "      <td>-0.765706</td>\n",
       "      <td>-0.765706</td>\n",
       "      <td>-3.828531</td>\n",
       "      <td>0.772872</td>\n",
       "    </tr>\n",
       "  </tbody>\n",
       "</table>\n",
       "<p>5 rows × 49 columns</p>\n",
       "</div>"
      ],
      "text/plain": [
       "    x0   x1   x2   x3   x4   x5   x6   x7   x8   x9  ...       x39       x40  \\\n",
       "0  0.0  0.0  0.0  0.0  0.0  0.0  0.0  0.0  0.0  0.0  ... -0.951051 -0.951051   \n",
       "1  0.0  0.0  0.0  0.0  0.0  0.0  0.0  0.0  0.0  0.0  ... -0.948871 -0.948871   \n",
       "2  0.0  0.0  0.0  0.0  0.0  0.0  0.0  0.0  0.0  0.0  ... -0.948056 -0.948056   \n",
       "3  0.0  0.0  0.0  0.0  0.0  0.0  0.0  0.0  0.0  0.0  ... -0.941999 -0.941999   \n",
       "4  0.0  0.0  0.0  0.0  0.0  0.0  0.0  0.0  0.0  0.0  ... -0.939440 -0.939440   \n",
       "\n",
       "        x41       x42       x43       x44       x45       x46       x47  \\\n",
       "0 -4.755257 -0.866019 -0.866019 -4.330093 -0.781824 -0.781824 -3.909121   \n",
       "1 -4.744353 -0.863095 -0.863095 -4.315474 -0.778705 -0.778705 -3.893525   \n",
       "2 -4.740279 -0.862011 -0.862011 -4.310053 -0.777551 -0.777551 -3.887757   \n",
       "3 -4.709996 -0.854081 -0.854081 -4.270406 -0.769161 -0.769161 -3.845805   \n",
       "4 -4.697202 -0.850794 -0.850794 -4.253972 -0.765706 -0.765706 -3.828531   \n",
       "\n",
       "          y  \n",
       "0 -1.376575  \n",
       "1  0.878782  \n",
       "2  1.108701  \n",
       "3  0.519229  \n",
       "4  0.772872  \n",
       "\n",
       "[5 rows x 49 columns]"
      ]
     },
     "execution_count": 13,
     "metadata": {},
     "output_type": "execute_result"
    }
   ],
   "source": [
    "data.head()\n"
   ]
  },
  {
   "cell_type": "code",
   "execution_count": 14,
   "metadata": {},
   "outputs": [
    {
     "name": "stdout",
     "output_type": "stream",
     "text": [
      "<class 'pandas.core.frame.DataFrame'>\n",
      "RangeIndex: 200 entries, 0 to 199\n",
      "Data columns (total 49 columns):\n",
      "x0     200 non-null float64\n",
      "x1     200 non-null float64\n",
      "x2     200 non-null float64\n",
      "x3     200 non-null float64\n",
      "x4     200 non-null float64\n",
      "x5     200 non-null float64\n",
      "x6     200 non-null float64\n",
      "x7     200 non-null float64\n",
      "x8     200 non-null float64\n",
      "x9     200 non-null float64\n",
      "x10    200 non-null float64\n",
      "x11    200 non-null float64\n",
      "x12    200 non-null float64\n",
      "x13    200 non-null float64\n",
      "x14    200 non-null float64\n",
      "x15    200 non-null float64\n",
      "x16    200 non-null float64\n",
      "x17    200 non-null float64\n",
      "x18    200 non-null float64\n",
      "x19    200 non-null float64\n",
      "x20    200 non-null float64\n",
      "x21    200 non-null float64\n",
      "x22    200 non-null float64\n",
      "x23    200 non-null float64\n",
      "x24    200 non-null float64\n",
      "x25    200 non-null float64\n",
      "x26    200 non-null float64\n",
      "x27    200 non-null float64\n",
      "x28    200 non-null float64\n",
      "x29    200 non-null float64\n",
      "x30    200 non-null float64\n",
      "x31    200 non-null float64\n",
      "x32    200 non-null float64\n",
      "x33    200 non-null float64\n",
      "x34    200 non-null float64\n",
      "x35    200 non-null float64\n",
      "x36    200 non-null float64\n",
      "x37    200 non-null float64\n",
      "x38    200 non-null float64\n",
      "x39    200 non-null float64\n",
      "x40    200 non-null float64\n",
      "x41    200 non-null float64\n",
      "x42    200 non-null float64\n",
      "x43    200 non-null float64\n",
      "x44    200 non-null float64\n",
      "x45    200 non-null float64\n",
      "x46    200 non-null float64\n",
      "x47    200 non-null float64\n",
      "y      200 non-null float64\n",
      "dtypes: float64(49)\n",
      "memory usage: 76.6 KB\n"
     ]
    }
   ],
   "source": [
    "data.info()"
   ]
  },
  {
   "cell_type": "code",
   "execution_count": 15,
   "metadata": {},
   "outputs": [
    {
     "data": {
      "text/html": [
       "<div>\n",
       "<style scoped>\n",
       "    .dataframe tbody tr th:only-of-type {\n",
       "        vertical-align: middle;\n",
       "    }\n",
       "\n",
       "    .dataframe tbody tr th {\n",
       "        vertical-align: top;\n",
       "    }\n",
       "\n",
       "    .dataframe thead th {\n",
       "        text-align: right;\n",
       "    }\n",
       "</style>\n",
       "<table border=\"1\" class=\"dataframe\">\n",
       "  <thead>\n",
       "    <tr style=\"text-align: right;\">\n",
       "      <th></th>\n",
       "      <th>x0</th>\n",
       "      <th>x1</th>\n",
       "      <th>x2</th>\n",
       "      <th>x3</th>\n",
       "      <th>x4</th>\n",
       "      <th>x5</th>\n",
       "      <th>x6</th>\n",
       "      <th>x7</th>\n",
       "      <th>x8</th>\n",
       "      <th>x9</th>\n",
       "      <th>...</th>\n",
       "      <th>x39</th>\n",
       "      <th>x40</th>\n",
       "      <th>x41</th>\n",
       "      <th>x42</th>\n",
       "      <th>x43</th>\n",
       "      <th>x44</th>\n",
       "      <th>x45</th>\n",
       "      <th>x46</th>\n",
       "      <th>x47</th>\n",
       "      <th>y</th>\n",
       "    </tr>\n",
       "  </thead>\n",
       "  <tbody>\n",
       "    <tr>\n",
       "      <th>count</th>\n",
       "      <td>200.000000</td>\n",
       "      <td>200.000000</td>\n",
       "      <td>200.000000</td>\n",
       "      <td>200.00000</td>\n",
       "      <td>200.000000</td>\n",
       "      <td>200.000000</td>\n",
       "      <td>200.000000</td>\n",
       "      <td>200.000000</td>\n",
       "      <td>200.000000</td>\n",
       "      <td>200.000000</td>\n",
       "      <td>...</td>\n",
       "      <td>200.000000</td>\n",
       "      <td>200.000000</td>\n",
       "      <td>200.000000</td>\n",
       "      <td>200.000000</td>\n",
       "      <td>200.000000</td>\n",
       "      <td>200.000000</td>\n",
       "      <td>200.000000</td>\n",
       "      <td>200.000000</td>\n",
       "      <td>200.000000</td>\n",
       "      <td>200.000000</td>\n",
       "    </tr>\n",
       "    <tr>\n",
       "      <th>mean</th>\n",
       "      <td>0.945000</td>\n",
       "      <td>0.880000</td>\n",
       "      <td>0.820000</td>\n",
       "      <td>0.79000</td>\n",
       "      <td>0.690000</td>\n",
       "      <td>0.650000</td>\n",
       "      <td>0.600000</td>\n",
       "      <td>0.585000</td>\n",
       "      <td>0.540000</td>\n",
       "      <td>0.470000</td>\n",
       "      <td>...</td>\n",
       "      <td>-0.555953</td>\n",
       "      <td>-0.555953</td>\n",
       "      <td>-2.779765</td>\n",
       "      <td>-0.483579</td>\n",
       "      <td>-0.483579</td>\n",
       "      <td>-2.417897</td>\n",
       "      <td>-0.425267</td>\n",
       "      <td>-0.425267</td>\n",
       "      <td>-2.126337</td>\n",
       "      <td>0.027530</td>\n",
       "    </tr>\n",
       "    <tr>\n",
       "      <th>std</th>\n",
       "      <td>0.228552</td>\n",
       "      <td>0.325777</td>\n",
       "      <td>0.385152</td>\n",
       "      <td>0.40833</td>\n",
       "      <td>0.463654</td>\n",
       "      <td>0.478167</td>\n",
       "      <td>0.491127</td>\n",
       "      <td>0.493958</td>\n",
       "      <td>0.499648</td>\n",
       "      <td>0.500352</td>\n",
       "      <td>...</td>\n",
       "      <td>0.288941</td>\n",
       "      <td>0.288941</td>\n",
       "      <td>1.444706</td>\n",
       "      <td>0.260582</td>\n",
       "      <td>0.260582</td>\n",
       "      <td>1.302912</td>\n",
       "      <td>0.234075</td>\n",
       "      <td>0.234075</td>\n",
       "      <td>1.170374</td>\n",
       "      <td>2.561686</td>\n",
       "    </tr>\n",
       "    <tr>\n",
       "      <th>min</th>\n",
       "      <td>0.000000</td>\n",
       "      <td>0.000000</td>\n",
       "      <td>0.000000</td>\n",
       "      <td>0.00000</td>\n",
       "      <td>0.000000</td>\n",
       "      <td>0.000000</td>\n",
       "      <td>0.000000</td>\n",
       "      <td>0.000000</td>\n",
       "      <td>0.000000</td>\n",
       "      <td>0.000000</td>\n",
       "      <td>...</td>\n",
       "      <td>-0.951051</td>\n",
       "      <td>-0.951051</td>\n",
       "      <td>-4.755257</td>\n",
       "      <td>-0.866019</td>\n",
       "      <td>-0.866019</td>\n",
       "      <td>-4.330093</td>\n",
       "      <td>-0.781824</td>\n",
       "      <td>-0.781824</td>\n",
       "      <td>-3.909121</td>\n",
       "      <td>-6.250766</td>\n",
       "    </tr>\n",
       "    <tr>\n",
       "      <th>25%</th>\n",
       "      <td>1.000000</td>\n",
       "      <td>1.000000</td>\n",
       "      <td>1.000000</td>\n",
       "      <td>1.00000</td>\n",
       "      <td>0.000000</td>\n",
       "      <td>0.000000</td>\n",
       "      <td>0.000000</td>\n",
       "      <td>0.000000</td>\n",
       "      <td>0.000000</td>\n",
       "      <td>0.000000</td>\n",
       "      <td>...</td>\n",
       "      <td>-0.827592</td>\n",
       "      <td>-0.827592</td>\n",
       "      <td>-4.137960</td>\n",
       "      <td>-0.725896</td>\n",
       "      <td>-0.725896</td>\n",
       "      <td>-3.629482</td>\n",
       "      <td>-0.641375</td>\n",
       "      <td>-0.641375</td>\n",
       "      <td>-3.206874</td>\n",
       "      <td>-1.968004</td>\n",
       "    </tr>\n",
       "    <tr>\n",
       "      <th>50%</th>\n",
       "      <td>1.000000</td>\n",
       "      <td>1.000000</td>\n",
       "      <td>1.000000</td>\n",
       "      <td>1.00000</td>\n",
       "      <td>1.000000</td>\n",
       "      <td>1.000000</td>\n",
       "      <td>1.000000</td>\n",
       "      <td>1.000000</td>\n",
       "      <td>1.000000</td>\n",
       "      <td>0.000000</td>\n",
       "      <td>...</td>\n",
       "      <td>-0.591618</td>\n",
       "      <td>-0.591618</td>\n",
       "      <td>-2.958092</td>\n",
       "      <td>-0.503421</td>\n",
       "      <td>-0.503421</td>\n",
       "      <td>-2.517107</td>\n",
       "      <td>-0.436936</td>\n",
       "      <td>-0.436936</td>\n",
       "      <td>-2.184678</td>\n",
       "      <td>0.096991</td>\n",
       "    </tr>\n",
       "    <tr>\n",
       "      <th>75%</th>\n",
       "      <td>1.000000</td>\n",
       "      <td>1.000000</td>\n",
       "      <td>1.000000</td>\n",
       "      <td>1.00000</td>\n",
       "      <td>1.000000</td>\n",
       "      <td>1.000000</td>\n",
       "      <td>1.000000</td>\n",
       "      <td>1.000000</td>\n",
       "      <td>1.000000</td>\n",
       "      <td>1.000000</td>\n",
       "      <td>...</td>\n",
       "      <td>-0.305200</td>\n",
       "      <td>-0.305200</td>\n",
       "      <td>-1.526000</td>\n",
       "      <td>-0.255590</td>\n",
       "      <td>-0.255590</td>\n",
       "      <td>-1.277948</td>\n",
       "      <td>-0.219728</td>\n",
       "      <td>-0.219728</td>\n",
       "      <td>-1.098638</td>\n",
       "      <td>1.639285</td>\n",
       "    </tr>\n",
       "    <tr>\n",
       "      <th>max</th>\n",
       "      <td>1.000000</td>\n",
       "      <td>1.000000</td>\n",
       "      <td>1.000000</td>\n",
       "      <td>1.00000</td>\n",
       "      <td>1.000000</td>\n",
       "      <td>1.000000</td>\n",
       "      <td>1.000000</td>\n",
       "      <td>1.000000</td>\n",
       "      <td>1.000000</td>\n",
       "      <td>1.000000</td>\n",
       "      <td>...</td>\n",
       "      <td>-0.002561</td>\n",
       "      <td>-0.002561</td>\n",
       "      <td>-0.012804</td>\n",
       "      <td>-0.002134</td>\n",
       "      <td>-0.002134</td>\n",
       "      <td>-0.010670</td>\n",
       "      <td>-0.001829</td>\n",
       "      <td>-0.001829</td>\n",
       "      <td>-0.009146</td>\n",
       "      <td>7.250253</td>\n",
       "    </tr>\n",
       "  </tbody>\n",
       "</table>\n",
       "<p>8 rows × 49 columns</p>\n",
       "</div>"
      ],
      "text/plain": [
       "               x0          x1          x2         x3          x4          x5  \\\n",
       "count  200.000000  200.000000  200.000000  200.00000  200.000000  200.000000   \n",
       "mean     0.945000    0.880000    0.820000    0.79000    0.690000    0.650000   \n",
       "std      0.228552    0.325777    0.385152    0.40833    0.463654    0.478167   \n",
       "min      0.000000    0.000000    0.000000    0.00000    0.000000    0.000000   \n",
       "25%      1.000000    1.000000    1.000000    1.00000    0.000000    0.000000   \n",
       "50%      1.000000    1.000000    1.000000    1.00000    1.000000    1.000000   \n",
       "75%      1.000000    1.000000    1.000000    1.00000    1.000000    1.000000   \n",
       "max      1.000000    1.000000    1.000000    1.00000    1.000000    1.000000   \n",
       "\n",
       "               x6          x7          x8          x9  ...         x39  \\\n",
       "count  200.000000  200.000000  200.000000  200.000000  ...  200.000000   \n",
       "mean     0.600000    0.585000    0.540000    0.470000  ...   -0.555953   \n",
       "std      0.491127    0.493958    0.499648    0.500352  ...    0.288941   \n",
       "min      0.000000    0.000000    0.000000    0.000000  ...   -0.951051   \n",
       "25%      0.000000    0.000000    0.000000    0.000000  ...   -0.827592   \n",
       "50%      1.000000    1.000000    1.000000    0.000000  ...   -0.591618   \n",
       "75%      1.000000    1.000000    1.000000    1.000000  ...   -0.305200   \n",
       "max      1.000000    1.000000    1.000000    1.000000  ...   -0.002561   \n",
       "\n",
       "              x40         x41         x42         x43         x44         x45  \\\n",
       "count  200.000000  200.000000  200.000000  200.000000  200.000000  200.000000   \n",
       "mean    -0.555953   -2.779765   -0.483579   -0.483579   -2.417897   -0.425267   \n",
       "std      0.288941    1.444706    0.260582    0.260582    1.302912    0.234075   \n",
       "min     -0.951051   -4.755257   -0.866019   -0.866019   -4.330093   -0.781824   \n",
       "25%     -0.827592   -4.137960   -0.725896   -0.725896   -3.629482   -0.641375   \n",
       "50%     -0.591618   -2.958092   -0.503421   -0.503421   -2.517107   -0.436936   \n",
       "75%     -0.305200   -1.526000   -0.255590   -0.255590   -1.277948   -0.219728   \n",
       "max     -0.002561   -0.012804   -0.002134   -0.002134   -0.010670   -0.001829   \n",
       "\n",
       "              x46         x47           y  \n",
       "count  200.000000  200.000000  200.000000  \n",
       "mean    -0.425267   -2.126337    0.027530  \n",
       "std      0.234075    1.170374    2.561686  \n",
       "min     -0.781824   -3.909121   -6.250766  \n",
       "25%     -0.641375   -3.206874   -1.968004  \n",
       "50%     -0.436936   -2.184678    0.096991  \n",
       "75%     -0.219728   -1.098638    1.639285  \n",
       "max     -0.001829   -0.009146    7.250253  \n",
       "\n",
       "[8 rows x 49 columns]"
      ]
     },
     "execution_count": 15,
     "metadata": {},
     "output_type": "execute_result"
    }
   ],
   "source": [
    "data.describe()"
   ]
  },
  {
   "cell_type": "code",
   "execution_count": 17,
   "metadata": {},
   "outputs": [
    {
     "data": {
      "image/png": "[encoded data removed]",
      "text/plain": [
       "<Figure size 1440x1080 with 49 Axes>"
      ]
     },
     "metadata": {
      "needs_background": "light"
     },
     "output_type": "display_data"
    }
   ],
   "source": [
    "%matplotlib inline\n",
    "import matplotlib.pyplot as plt\n",
    "data.hist(bins=50, figsize=(20,15))\n",
    "plt.show()"
   ]
  },
  {
   "cell_type": "code",
   "execution_count": 19,
   "metadata": {},
   "outputs": [],
   "source": [
    "from sklearn.model_selection import train_test_split\n",
    "\n",
    "train_set, test_set = train_test_split(data, test_size=0.2, random_state=42)"
   ]
  },
  {
   "cell_type": "code",
   "execution_count": 30,
   "metadata": {},
   "outputs": [],
   "source": [
    "corr_matrix = train_set.corr()"
   ]
  },
  {
   "cell_type": "code",
   "execution_count": 21,
   "metadata": {},
   "outputs": [
    {
     "data": {
      "text/plain": [
       "y      1.000000\n",
       "x15    0.379127\n",
       "x16    0.377009\n",
       "x2     0.345440\n",
       "x3     0.336449\n",
       "x10    0.314400\n",
       "x14    0.304904\n",
       "x37    0.301230\n",
       "x36    0.301230\n",
       "x38    0.301230\n",
       "x41    0.301223\n",
       "x40    0.301223\n",
       "x39    0.301223\n",
       "x44    0.300623\n",
       "x43    0.300623\n",
       "x42    0.300623\n",
       "x46    0.300131\n",
       "x45    0.300131\n",
       "x47    0.300131\n",
       "x31    0.291933\n",
       "x30    0.291933\n",
       "x32    0.291933\n",
       "x9     0.291172\n",
       "x34    0.290376\n",
       "x35    0.290376\n",
       "x33    0.290376\n",
       "x29    0.289171\n",
       "x27    0.289171\n",
       "x28    0.289171\n",
       "x26    0.284000\n",
       "x24    0.284000\n",
       "x25    0.284000\n",
       "x21    0.272099\n",
       "x22    0.272099\n",
       "x23    0.272099\n",
       "x11    0.255904\n",
       "x8     0.255742\n",
       "x1     0.254394\n",
       "x19    0.230375\n",
       "x18    0.230375\n",
       "x20    0.230375\n",
       "x17    0.220182\n",
       "x12    0.171750\n",
       "x7     0.148512\n",
       "x6     0.129197\n",
       "x5     0.122582\n",
       "x4     0.107898\n",
       "x13    0.083988\n",
       "x0     0.078789\n",
       "Name: y, dtype: float64"
      ]
     },
     "execution_count": 21,
     "metadata": {},
     "output_type": "execute_result"
    }
   ],
   "source": [
    "corr_matrix[\"y\"].sort_values(ascending=False)"
   ]
  },
  {
   "cell_type": "code",
   "execution_count": 25,
   "metadata": {},
   "outputs": [
    {
     "data": {
      "text/plain": [
       "array([[<matplotlib.axes._subplots.AxesSubplot object at 0x114fc8668>,\n",
       "        <matplotlib.axes._subplots.AxesSubplot object at 0x1144818d0>,\n",
       "        <matplotlib.axes._subplots.AxesSubplot object at 0x114498f28>,\n",
       "        <matplotlib.axes._subplots.AxesSubplot object at 0x1142bd278>],\n",
       "       [<matplotlib.axes._subplots.AxesSubplot object at 0x1141ab7f0>,\n",
       "        <matplotlib.axes._subplots.AxesSubplot object at 0x11416fd68>,\n",
       "        <matplotlib.axes._subplots.AxesSubplot object at 0x114150320>,\n",
       "        <matplotlib.axes._subplots.AxesSubplot object at 0x11412f8d0>],\n",
       "       [<matplotlib.axes._subplots.AxesSubplot object at 0x11412f908>,\n",
       "        <matplotlib.axes._subplots.AxesSubplot object at 0x113fde3c8>,\n",
       "        <matplotlib.axes._subplots.AxesSubplot object at 0x113fd4940>,\n",
       "        <matplotlib.axes._subplots.AxesSubplot object at 0x115dc4898>],\n",
       "       [<matplotlib.axes._subplots.AxesSubplot object at 0x115dd2470>,\n",
       "        <matplotlib.axes._subplots.AxesSubplot object at 0x1143429e8>,\n",
       "        <matplotlib.axes._subplots.AxesSubplot object at 0x11435bf60>,\n",
       "        <matplotlib.axes._subplots.AxesSubplot object at 0x114551518>]],\n",
       "      dtype=object)"
      ]
     },
     "execution_count": 25,
     "metadata": {},
     "output_type": "execute_result"
    },
    {
     "data": {
      "image/png": "[encoded data removed]",
      "text/plain": [
       "<Figure size 864x576 with 16 Axes>"
      ]
     },
     "metadata": {
      "needs_background": "light"
     },
     "output_type": "display_data"
    }
   ],
   "source": [
    "from pandas.plotting import scatter_matrix\n",
    "attributes = [\"y\", \"x14\", \"x37\", \"x36\"]\n",
    "scatter_matrix(train_set[attributes], figsize=(12, 8))"
   ]
  },
  {
   "cell_type": "code",
   "execution_count": 40,
   "metadata": {},
   "outputs": [],
   "source": [
    "train_set1 = train_set.drop(\"y\", axis=1)\n",
    "y = train_set[\"y\"].copy()\n"
   ]
  },
  {
   "cell_type": "code",
   "execution_count": 36,
   "metadata": {},
   "outputs": [],
   "source": [
    "from sklearn.pipeline import Pipeline\n",
    "from sklearn.preprocessing import StandardScaler\n",
    "\n",
    "num_pipeline = Pipeline([\n",
    "        ('std_scaler', StandardScaler()),\n",
    "    ])\n",
    "\n",
    "train_set_norm = num_pipeline.fit_transform(train_set1)\n"
   ]
  },
  {
   "cell_type": "code",
   "execution_count": 41,
   "metadata": {},
   "outputs": [
    {
     "data": {
      "text/plain": [
       "LinearRegression(copy_X=True, fit_intercept=True, n_jobs=None,\n",
       "         normalize=False)"
      ]
     },
     "execution_count": 41,
     "metadata": {},
     "output_type": "execute_result"
    }
   ],
   "source": [
    "from sklearn.linear_model import LinearRegression\n",
    "\n",
    "lin_reg = LinearRegression()\n",
    "lin_reg.fit(train_set_norm, y)"
   ]
  },
  {
   "cell_type": "code",
   "execution_count": 45,
   "metadata": {},
   "outputs": [
    {
     "name": "stdout",
     "output_type": "stream",
     "text": [
      "Predictions: [-2.87324407  2.99270746 -0.22830084 -2.73808172  1.92647288]\n"
     ]
    }
   ],
   "source": [
    "some_data = train_set1.iloc[:5]\n",
    "some_y = y.iloc[:5]\n",
    "some_data_prepared = num_pipeline.transform(some_data)\n",
    "\n",
    "print(\"Predictions:\", lin_reg.predict(some_data_prepared))"
   ]
  },
  {
   "cell_type": "code",
   "execution_count": 46,
   "metadata": {},
   "outputs": [
    {
     "name": "stdout",
     "output_type": "stream",
     "text": [
      "Labels: [-2.0213214701595845, 3.3793556670079195, -0.04223345172684945, -2.356963099039728, 1.4625609495842091]\n"
     ]
    }
   ],
   "source": [
    "print(\"Labels:\", list(some_y))"
   ]
  },
  {
   "cell_type": "code",
   "execution_count": 48,
   "metadata": {},
   "outputs": [
    {
     "data": {
      "text/plain": [
       "1.215999642087035"
      ]
     },
     "execution_count": 48,
     "metadata": {},
     "output_type": "execute_result"
    }
   ],
   "source": [
    "import numpy as np\n",
    "from sklearn.metrics import mean_squared_error\n",
    "\n",
    "data_predictions = lin_reg.predict(train_set_norm)\n",
    "lin_mse = mean_squared_error(y, data_predictions)\n",
    "lin_rmse = np.sqrt(lin_mse)\n",
    "lin_rmse"
   ]
  },
  {
   "cell_type": "code",
   "execution_count": 51,
   "metadata": {},
   "outputs": [],
   "source": [
    "def display_scores(scores):\n",
    "    print(\"Scores:\", scores)\n",
    "    print(\"Mean:\", scores.mean())\n",
    "    print(\"Standard deviation:\", scores.std())"
   ]
  },
  {
   "cell_type": "code",
   "execution_count": 52,
   "metadata": {},
   "outputs": [
    {
     "name": "stdout",
     "output_type": "stream",
     "text": [
      "Scores: [2.18343808e-15 2.02625207e-15 4.00303823e-15 4.60284611e-15\n",
      " 1.87000294e-15 5.14299376e-15 1.23909296e-15 2.26127576e-15\n",
      " 1.75234206e-15 1.77139307e-15]\n",
      "Mean: 2.6852675048157253e-15\n",
      "Standard deviation: 1.295435925977159e-15\n"
     ]
    }
   ],
   "source": [
    "from sklearn.model_selection import cross_val_score\n",
    "lin_scores = cross_val_score(lin_reg, train_set, y,\n",
    "                             scoring=\"neg_mean_squared_error\", cv=10)\n",
    "lin_rmse_scores = np.sqrt(-lin_scores)\n",
    "display_scores(lin_rmse_scores)"
   ]
  },
  {
   "cell_type": "code",
   "execution_count": 53,
   "metadata": {},
   "outputs": [],
   "source": [
    "X_test = test_set.drop(\"y\", axis=1)\n",
    "y_test = test_set[\"y\"].copy()"
   ]
  },
  {
   "cell_type": "code",
   "execution_count": 54,
   "metadata": {},
   "outputs": [],
   "source": [
    "X_test_prepared = num_pipeline.transform(X_test)\n",
    "final_predictions = lin_reg.predict(X_test_prepared)"
   ]
  },
  {
   "cell_type": "code",
   "execution_count": 55,
   "metadata": {},
   "outputs": [],
   "source": [
    "final_mse = mean_squared_error(y_test, final_predictions)\n",
    "final_rmse = np.sqrt(final_mse)"
   ]
  },
  {
   "cell_type": "code",
   "execution_count": 56,
   "metadata": {},
   "outputs": [
    {
     "data": {
      "text/plain": [
       "2.9676400423499305"
      ]
     },
     "execution_count": 56,
     "metadata": {},
     "output_type": "execute_result"
    }
   ],
   "source": [
    "final_rmse"
   ]
  },
  {
   "cell_type": "code",
   "execution_count": null,
   "metadata": {},
   "outputs": [],
   "source": []
  }
 ],
 "metadata": {
  "kernelspec": {
   "display_name": "Python 3",
   "language": "python",
   "name": "python3"
  },
  "language_info": {
   "codemirror_mode": {
    "name": "ipython",
    "version": 3
   },
   "file_extension": ".py",
   "mimetype": "text/x-python",
   "name": "python",
   "nbconvert_exporter": "python",
   "pygments_lexer": "ipython3",
   "version": "3.7.2"
  }
 },
 "nbformat": 4,
 "nbformat_minor": 2
}
